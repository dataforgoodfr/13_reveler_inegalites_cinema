{
 "cells": [
  {
   "cell_type": "code",
   "execution_count": null,
   "metadata": {},
   "outputs": [],
   "source": [
    "!pip install mistralai tqdm psycopg2-binary sqlalchemy python-dotenv pandas termcolor openpyxl black --quiet\n",
    "\n",
    "%load_ext autoreload\n",
    "%autoreload 2\n",
    "\n",
    "from database.matching import find_matches, compare_names\n",
    "from database.getdata import query_data, get_connection, execute_query\n",
    "import pandas as pd\n",
    "import os\n",
    "from mistralai import Mistral\n",
    "from dotenv import load_dotenv\n",
    "import tqdm\n",
    "\n",
    "import json\n",
    "\n",
    "load_dotenv()"
   ]
  },
  {
   "cell_type": "code",
   "execution_count": null,
   "metadata": {},
   "outputs": [],
   "source": [
    "# Read both sheets from the Excel file\n",
    "df_films = pd.read_excel(\"data/Dataset5050_César 1976-2024.xlsx\", sheet_name=\"Films\")\n",
    "df_personnes = pd.read_excel(\n",
    "    \"data/Dataset5050_César 1976-2024.xlsx\", sheet_name=\"Personnes\"\n",
    ")"
   ]
  }
 ],
 "metadata": {
  "kernelspec": {
   "display_name": ".venv",
   "language": "python",
   "name": "python3"
  },
  "language_info": {
   "name": "python",
   "version": "3.13.0"
  }
 },
 "nbformat": 4,
 "nbformat_minor": 2
}
