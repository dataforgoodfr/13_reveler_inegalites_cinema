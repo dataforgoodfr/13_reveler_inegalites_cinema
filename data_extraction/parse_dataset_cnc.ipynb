{
 "cells": [
  {
   "cell_type": "code",
   "execution_count": 1,
   "metadata": {
    "ExecuteTime": {
     "end_time": "2025-02-20T22:04:03.436337Z",
     "start_time": "2025-02-20T22:04:01.061456Z"
    }
   },
   "outputs": [
    {
     "data": {
      "text/plain": [
       "True"
      ]
     },
     "execution_count": 1,
     "metadata": {},
     "output_type": "execute_result"
    }
   ],
   "source": [
    "!pip install mistralai tqdm psycopg2-binary sqlalchemy python-dotenv pandas termcolor openpyxl black --quiet\n",
    "\n",
    "%load_ext autoreload\n",
    "%autoreload 2\n",
    "\n",
    "from database.matching import find_matches, compare_names\n",
    "from database.getdata import query_data, get_connection, execute_query\n",
    "import pandas as pd \n",
    "import os\n",
    "from mistralai import Mistral\n",
    "from dotenv import load_dotenv\n",
    "import tqdm\n",
    "\n",
    "import json\n",
    "load_dotenv()"
   ]
  },
  {
   "cell_type": "markdown",
   "metadata": {},
   "source": [
    "# CHARGEMENT DES DONNEES FILMS, REALISATEURS, PRODUCTEURS, DISTRIBUTEURS"
   ]
  },
  {
   "cell_type": "markdown",
   "metadata": {},
   "source": [
    "## LOAD DATASET Dataset5050_CNC Films Agréés 2003-2024.xlsx"
   ]
  },
  {
   "cell_type": "code",
   "execution_count": 2,
   "metadata": {
    "ExecuteTime": {
     "end_time": "2025-02-20T22:04:03.983382Z",
     "start_time": "2025-02-20T22:04:03.451452Z"
    }
   },
   "outputs": [
    {
     "name": "stdout",
     "output_type": "stream",
     "text": [
      "22 feuilles trouvés dans le fichier ../database/data/Dataset5050_CNC Films Agréés 2003-2024.xlsx\n"
     ]
    },
    {
     "data": {
      "text/plain": [
       "['2023',\n",
       " '2022',\n",
       " '2021',\n",
       " '2020',\n",
       " '2019',\n",
       " '2018',\n",
       " '2017',\n",
       " '2016',\n",
       " '2015',\n",
       " '2014',\n",
       " '2013',\n",
       " '2012',\n",
       " '2011',\n",
       " '2010',\n",
       " '2009',\n",
       " '2008',\n",
       " '2007',\n",
       " '2006',\n",
       " '2005',\n",
       " '2004',\n",
       " '2003']"
      ]
     },
     "execution_count": 2,
     "metadata": {},
     "output_type": "execute_result"
    }
   ],
   "source": [
    "# use openpyxl to get list of spreadsheet names \n",
    "filename = '../database/data/Dataset5050_CNC Films Agréés 2003-2024.xlsx'\n",
    "xls = pd.ExcelFile(filename)\n",
    "sheet_names = xls.sheet_names\n",
    "print(f\"{len(sheet_names)} feuilles trouvés dans le fichier {filename}\")\n",
    "sheet_names = [sheet for sheet in sheet_names if '20' in sheet]\n",
    "sheet_names"
   ]
  },
  {
   "cell_type": "code",
   "execution_count": 3,
   "metadata": {
    "ExecuteTime": {
     "end_time": "2025-02-20T22:04:04.580728Z",
     "start_time": "2025-02-20T22:04:04.137826Z"
    }
   },
   "outputs": [
    {
     "data": {
      "text/html": [
       "<div>\n",
       "<style scoped>\n",
       "    .dataframe tbody tr th:only-of-type {\n",
       "        vertical-align: middle;\n",
       "    }\n",
       "\n",
       "    .dataframe tbody tr th {\n",
       "        vertical-align: top;\n",
       "    }\n",
       "\n",
       "    .dataframe thead th {\n",
       "        text-align: right;\n",
       "    }\n",
       "</style>\n",
       "<table border=\"1\" class=\"dataframe\">\n",
       "  <thead>\n",
       "    <tr style=\"text-align: right;\">\n",
       "      <th></th>\n",
       "      <th>VISA</th>\n",
       "      <th>TITRE</th>\n",
       "      <th>REALISATEUR</th>\n",
       "      <th>PRODUCTEURS</th>\n",
       "      <th>DEVIS</th>\n",
       "      <th>GENRE</th>\n",
       "      <th>EOF</th>\n",
       "      <th>RANG</th>\n",
       "      <th>BONUS PARITE</th>\n",
       "      <th>ASR</th>\n",
       "      <th>PAYANT</th>\n",
       "      <th>CLAIR</th>\n",
       "      <th>SOFICA</th>\n",
       "      <th>CREDIT D'IMPOT</th>\n",
       "      <th>AIDE REGIONALE</th>\n",
       "      <th>NATIONALITE</th>\n",
       "    </tr>\n",
       "  </thead>\n",
       "  <tbody>\n",
       "    <tr>\n",
       "      <th>0</th>\n",
       "      <td>158738</td>\n",
       "      <td>Comte de Monte-Cristo (Le)</td>\n",
       "      <td>DELAPORTE Matthieu / DE LA PATELLIÈRE Alexandre</td>\n",
       "      <td>Chapter 2 / Pathé Films</td>\n",
       "      <td>42905442</td>\n",
       "      <td>Fiction</td>\n",
       "      <td>OUI</td>\n",
       "      <td>3</td>\n",
       "      <td>NaN</td>\n",
       "      <td>NaN</td>\n",
       "      <td>C+ Ciné+</td>\n",
       "      <td>M6 W9</td>\n",
       "      <td>NaN</td>\n",
       "      <td>X</td>\n",
       "      <td>x</td>\n",
       "      <td>Fr-100</td>\n",
       "    </tr>\n",
       "    <tr>\n",
       "      <th>1</th>\n",
       "      <td>160148</td>\n",
       "      <td>De Gaulle - Partie 2</td>\n",
       "      <td>BAUDRY Antonin</td>\n",
       "      <td>Pathé Films</td>\n",
       "      <td>37768806</td>\n",
       "      <td>Fiction</td>\n",
       "      <td>OUI</td>\n",
       "      <td>3</td>\n",
       "      <td>NaN</td>\n",
       "      <td>NaN</td>\n",
       "      <td>C+ Disney+</td>\n",
       "      <td>TF1</td>\n",
       "      <td>x</td>\n",
       "      <td>X</td>\n",
       "      <td>x</td>\n",
       "      <td>Fr-100</td>\n",
       "    </tr>\n",
       "    <tr>\n",
       "      <th>2</th>\n",
       "      <td>159694</td>\n",
       "      <td>De Gaulle - Partie 1</td>\n",
       "      <td>BAUDRY Antonin</td>\n",
       "      <td>Pathé Films</td>\n",
       "      <td>37743465</td>\n",
       "      <td>Fiction</td>\n",
       "      <td>OUI</td>\n",
       "      <td>2</td>\n",
       "      <td>NaN</td>\n",
       "      <td>NaN</td>\n",
       "      <td>C+ Disney+</td>\n",
       "      <td>TF1 TMC</td>\n",
       "      <td>x</td>\n",
       "      <td>X</td>\n",
       "      <td>x</td>\n",
       "      <td>Fr-100</td>\n",
       "    </tr>\n",
       "    <tr>\n",
       "      <th>3</th>\n",
       "      <td>115903</td>\n",
       "      <td>Amour ouf (L')</td>\n",
       "      <td>LELLOUCHE Gilles</td>\n",
       "      <td>Trésor Films / Chi-Fou-Mi Productions</td>\n",
       "      <td>35752278</td>\n",
       "      <td>Fiction</td>\n",
       "      <td>OUI</td>\n",
       "      <td>3</td>\n",
       "      <td>NaN</td>\n",
       "      <td>NaN</td>\n",
       "      <td>C+ Netflix</td>\n",
       "      <td>FR2</td>\n",
       "      <td>NaN</td>\n",
       "      <td>X</td>\n",
       "      <td>NaN</td>\n",
       "      <td>Fr-100</td>\n",
       "    </tr>\n",
       "    <tr>\n",
       "      <th>4</th>\n",
       "      <td>158907</td>\n",
       "      <td>Emilia Perez</td>\n",
       "      <td>AUDIARD Jacques</td>\n",
       "      <td>Page 114 / Why Not Productions</td>\n",
       "      <td>24991495</td>\n",
       "      <td>Fiction</td>\n",
       "      <td>OUI</td>\n",
       "      <td>4</td>\n",
       "      <td>NaN</td>\n",
       "      <td>avant</td>\n",
       "      <td>C+ Ciné+</td>\n",
       "      <td>FR2</td>\n",
       "      <td>NaN</td>\n",
       "      <td>X</td>\n",
       "      <td>x</td>\n",
       "      <td>Fr-100</td>\n",
       "    </tr>\n",
       "  </tbody>\n",
       "</table>\n",
       "</div>"
      ],
      "text/plain": [
       "     VISA                       TITRE  \\\n",
       "0  158738  Comte de Monte-Cristo (Le)   \n",
       "1  160148        De Gaulle - Partie 2   \n",
       "2  159694        De Gaulle - Partie 1   \n",
       "3  115903              Amour ouf (L')   \n",
       "4  158907                Emilia Perez   \n",
       "\n",
       "                                       REALISATEUR  \\\n",
       "0  DELAPORTE Matthieu / DE LA PATELLIÈRE Alexandre   \n",
       "1                                   BAUDRY Antonin   \n",
       "2                                   BAUDRY Antonin   \n",
       "3                                 LELLOUCHE Gilles   \n",
       "4                                  AUDIARD Jacques   \n",
       "\n",
       "                             PRODUCTEURS     DEVIS    GENRE  EOF RANG  \\\n",
       "0                Chapter 2 / Pathé Films  42905442  Fiction  OUI    3   \n",
       "1                            Pathé Films  37768806  Fiction  OUI    3   \n",
       "2                            Pathé Films  37743465  Fiction  OUI    2   \n",
       "3  Trésor Films / Chi-Fou-Mi Productions  35752278  Fiction  OUI    3   \n",
       "4         Page 114 / Why Not Productions  24991495  Fiction  OUI    4   \n",
       "\n",
       "  BONUS PARITE     ASR      PAYANT    CLAIR SOFICA CREDIT D'IMPOT  \\\n",
       "0           NaN    NaN    C+ Ciné+    M6 W9    NaN              X   \n",
       "1           NaN    NaN  C+ Disney+      TF1      x              X   \n",
       "2           NaN    NaN  C+ Disney+  TF1 TMC      x              X   \n",
       "3           NaN    NaN  C+ Netflix      FR2    NaN              X   \n",
       "4           NaN  avant    C+ Ciné+      FR2    NaN              X   \n",
       "\n",
       "  AIDE REGIONALE NATIONALITE  \n",
       "0              x      Fr-100  \n",
       "1              x      Fr-100  \n",
       "2              x      Fr-100  \n",
       "3            NaN      Fr-100  \n",
       "4              x      Fr-100  "
      ]
     },
     "execution_count": 3,
     "metadata": {},
     "output_type": "execute_result"
    }
   ],
   "source": [
    "df = pd.read_excel(filename, sheet_name=sheet_names[0], skiprows=4)\n",
    "df.head()"
   ]
  },
  {
   "cell_type": "markdown",
   "metadata": {},
   "source": [
    "### REALISATEURS"
   ]
  },
  {
   "cell_type": "code",
   "execution_count": 4,
   "metadata": {
    "ExecuteTime": {
     "end_time": "2025-02-20T22:04:13.304229Z",
     "start_time": "2025-02-20T22:04:04.633865Z"
    }
   },
   "outputs": [
    {
     "name": "stderr",
     "output_type": "stream",
     "text": [
      "Processing sheets:   0%|          | 0/21 [00:00<?, ?it/s]"
     ]
    },
    {
     "name": "stderr",
     "output_type": "stream",
     "text": [
      "Processing sheets: 100%|██████████| 21/21 [00:06<00:00,  3.28it/s]"
     ]
    },
    {
     "name": "stdout",
     "output_type": "stream",
     "text": [
      "3498 réalisateurs trouvés dans le fichier ../database/data/Dataset5050_CNC Films Agréés 2003-2024.xlsx\n"
     ]
    },
    {
     "name": "stderr",
     "output_type": "stream",
     "text": [
      "\n"
     ]
    }
   ],
   "source": [
    "all_realisateurs = []\n",
    "\n",
    "for sheet in tqdm.tqdm(sheet_names, desc=\"Processing sheets\"):\n",
    "    df = pd.read_excel(filename, sheet_name=sheet, skiprows=4)\n",
    "    \n",
    "    realisateurs = [[name.strip() for name in tt.split('/')] for tt in df['REALISATEUR'].fillna(\"\").tolist()]\n",
    "    realisateurs = [item for sublist in realisateurs for item in sublist]\n",
    "    \n",
    "    all_realisateurs.extend(realisateurs)\n",
    "    \n",
    "all_realisateurs = list(set(all_realisateurs))\n",
    "all_realisateurs.sort()\n",
    "all_realisateurs.remove('')\n",
    "print(f\"{len(all_realisateurs)} réalisateurs trouvés dans le fichier {filename}\")"
   ]
  },
  {
   "cell_type": "code",
   "execution_count": 9,
   "metadata": {
    "ExecuteTime": {
     "end_time": "2025-02-20T22:04:13.415748Z",
     "start_time": "2025-02-20T22:04:13.338685Z"
    }
   },
   "outputs": [
    {
     "data": {
      "text/html": [
       "<div>\n",
       "<style scoped>\n",
       "    .dataframe tbody tr th:only-of-type {\n",
       "        vertical-align: middle;\n",
       "    }\n",
       "\n",
       "    .dataframe tbody tr th {\n",
       "        vertical-align: top;\n",
       "    }\n",
       "\n",
       "    .dataframe thead th {\n",
       "        text-align: right;\n",
       "    }\n",
       "</style>\n",
       "<table border=\"1\" class=\"dataframe\">\n",
       "  <thead>\n",
       "    <tr style=\"text-align: right;\">\n",
       "      <th></th>\n",
       "      <th>id</th>\n",
       "      <th>type_de_poste</th>\n",
       "      <th>nom</th>\n",
       "    </tr>\n",
       "  </thead>\n",
       "  <tbody>\n",
       "    <tr>\n",
       "      <th>0</th>\n",
       "      <td>2306</td>\n",
       "      <td>Réalisation</td>\n",
       "      <td>Hamé</td>\n",
       "    </tr>\n",
       "    <tr>\n",
       "      <th>1</th>\n",
       "      <td>2307</td>\n",
       "      <td>Réalisation</td>\n",
       "      <td>Ékoué</td>\n",
       "    </tr>\n",
       "    <tr>\n",
       "      <th>2</th>\n",
       "      <td>2308</td>\n",
       "      <td>Réalisation</td>\n",
       "      <td>Adrien Beau</td>\n",
       "    </tr>\n",
       "    <tr>\n",
       "      <th>3</th>\n",
       "      <td>2309</td>\n",
       "      <td>Réalisation</td>\n",
       "      <td>Adrien Bellay</td>\n",
       "    </tr>\n",
       "    <tr>\n",
       "      <th>4</th>\n",
       "      <td>2310</td>\n",
       "      <td>Réalisation</td>\n",
       "      <td>Ainara Vera</td>\n",
       "    </tr>\n",
       "  </tbody>\n",
       "</table>\n",
       "</div>"
      ],
      "text/plain": [
       "     id type_de_poste            nom\n",
       "0  2306   Réalisation           Hamé\n",
       "1  2307   Réalisation          Ékoué\n",
       "2  2308   Réalisation    Adrien Beau\n",
       "3  2309   Réalisation  Adrien Bellay\n",
       "4  2310   Réalisation    Ainara Vera"
      ]
     },
     "execution_count": 9,
     "metadata": {},
     "output_type": "execute_result"
    }
   ],
   "source": [
    "df_realisateurs = query_data(\"SELECT id, type_de_poste, nom FROM inegalites_cinema.cheffes_postes where type_de_poste='Réalisation'\")\n",
    "df_realisateurs.head()"
   ]
  },
  {
   "cell_type": "code",
   "execution_count": 12,
   "metadata": {
    "ExecuteTime": {
     "end_time": "2025-02-20T22:04:13.627895Z",
     "start_time": "2025-02-20T22:04:13.492797Z"
    }
   },
   "outputs": [
    {
     "data": {
      "text/html": [
       "<div>\n",
       "<style scoped>\n",
       "    .dataframe tbody tr th:only-of-type {\n",
       "        vertical-align: middle;\n",
       "    }\n",
       "\n",
       "    .dataframe tbody tr th {\n",
       "        vertical-align: top;\n",
       "    }\n",
       "\n",
       "    .dataframe thead th {\n",
       "        text-align: right;\n",
       "    }\n",
       "</style>\n",
       "<table border=\"1\" class=\"dataframe\">\n",
       "  <thead>\n",
       "    <tr style=\"text-align: right;\">\n",
       "      <th></th>\n",
       "      <th>id</th>\n",
       "      <th>type_de_poste</th>\n",
       "      <th>nom</th>\n",
       "      <th>similarity_score</th>\n",
       "    </tr>\n",
       "  </thead>\n",
       "  <tbody>\n",
       "  </tbody>\n",
       "</table>\n",
       "</div>"
      ],
      "text/plain": [
       "Empty DataFrame\n",
       "Columns: [id, type_de_poste, nom, similarity_score]\n",
       "Index: []"
      ]
     },
     "execution_count": 12,
     "metadata": {},
     "output_type": "execute_result"
    }
   ],
   "source": [
    "find_matches('Ékoue', df_realisateurs, 'nom') "
   ]
  },
  {
   "cell_type": "code",
   "execution_count": 13,
   "metadata": {
    "ExecuteTime": {
     "end_time": "2025-02-20T22:07:44.284677Z",
     "start_time": "2025-02-20T22:04:13.719601Z"
    }
   },
   "outputs": [
    {
     "name": "stderr",
     "output_type": "stream",
     "text": [
      "Processing realisateurs: 100%|██████████| 3498/3498 [02:33<00:00, 22.75it/s]\n"
     ]
    }
   ],
   "source": [
    "realisateur_to_check = []\n",
    "realisateurs_matched = [] # ['GABARSKI Sam', 'GARBARSKI Sam', 'GAUD Jean-Paul']\n",
    "\n",
    "for ii, realisateur in tqdm.tqdm(enumerate(all_realisateurs), desc=\"Processing realisateurs\", total=len(all_realisateurs)):\n",
    "    matches = find_matches(realisateur, df_realisateurs[ii:], 'nom', threshold=0.90)\n",
    "    if len(matches) > 1:\n",
    "        print(f\"Realisateur: {realisateur}\")\n",
    "        print(matches)\n",
    "        print()\n",
    "        realisateur_to_check.append(realisateur)\n",
    "    elif len(matches) == 1:\n",
    "        realisateurs_matched.append(realisateur)\n",
    "    elif len(matches) == 0:\n",
    "        df_toadd = pd.DataFrame([{\n",
    "                 'nom': realisateur,\n",
    "                'type_de_poste': 'Réalisation'\n",
    "             }])\n",
    "        df_toadd.to_sql('cheffes_postes', con=get_connection(), schema='inegalites_cinema', if_exists='append', index=False)\n",
    "        df_realisateurs = pd.concat([df_realisateurs, df_toadd], ignore_index=True)\n"
   ]
  },
  {
   "cell_type": "code",
   "execution_count": 14,
   "metadata": {
    "ExecuteTime": {
     "end_time": "2025-02-20T22:08:02.932584Z",
     "start_time": "2025-02-20T22:08:02.895503Z"
    }
   },
   "outputs": [],
   "source": [
    "df_realisateurs = query_data(\"SELECT id, nom FROM inegalites_cinema.cheffes_postes where type_de_poste='Réalisation'\")"
   ]
  },
  {
   "cell_type": "code",
   "execution_count": 15,
   "metadata": {
    "ExecuteTime": {
     "end_time": "2025-02-20T22:43:26.859643Z",
     "start_time": "2025-02-20T22:12:19.476460Z"
    }
   },
   "outputs": [
    {
     "name": "stderr",
     "output_type": "stream",
     "text": [
      "Processing realisateurs:   0%|          | 0/3671 [00:00<?, ?it/s]"
     ]
    },
    {
     "name": "stderr",
     "output_type": "stream",
     "text": [
      "Processing realisateurs: 100%|██████████| 3671/3671 [30:58<00:00,  1.98it/s]\n"
     ]
    }
   ],
   "source": [
    "# find duplicated entries\n",
    "\n",
    "ids_to_delete = []\n",
    "for realisateur in tqdm.tqdm(df_realisateurs[\"nom\"].to_list(), desc=\"Processing realisateurs\"):\n",
    "    matches = find_matches(realisateur, df_realisateurs, 'nom', threshold=0.9)\n",
    "    if len(matches) > 1:\n",
    "        ids = matches['id'].tolist()\n",
    "        ids_to_delete.extend(ids[1:])\n",
    "ids_to_delete = list(set(ids_to_delete))\n"
   ]
  },
  {
   "cell_type": "code",
   "execution_count": 16,
   "metadata": {
    "ExecuteTime": {
     "end_time": "2025-02-20T22:43:26.925769Z",
     "start_time": "2025-02-20T22:43:26.909476Z"
    }
   },
   "outputs": [],
   "source": [
    "with open('../database/realisateurs_matched.txt', 'w') as f:\n",
    "    for item in realisateurs_matched:\n",
    "        f.write(\"%s\\n\" % item)\n",
    "        "
   ]
  },
  {
   "cell_type": "code",
   "execution_count": 17,
   "metadata": {
    "ExecuteTime": {
     "end_time": "2025-02-20T22:43:27.005629Z",
     "start_time": "2025-02-20T22:43:26.990488Z"
    }
   },
   "outputs": [
    {
     "data": {
      "text/plain": [
       "[]"
      ]
     },
     "execution_count": 17,
     "metadata": {},
     "output_type": "execute_result"
    }
   ],
   "source": [
    "realisateur_to_check"
   ]
  },
  {
   "cell_type": "code",
   "execution_count": 18,
   "metadata": {
    "ExecuteTime": {
     "end_time": "2025-02-20T22:45:05.756940Z",
     "start_time": "2025-02-20T22:45:01.676948Z"
    }
   },
   "outputs": [
    {
     "name": "stderr",
     "output_type": "stream",
     "text": [
      "  0%|          | 0/272 [00:00<?, ?it/s]"
     ]
    },
    {
     "name": "stderr",
     "output_type": "stream",
     "text": [
      "100%|██████████| 272/272 [00:03<00:00, 70.25it/s]\n"
     ]
    }
   ],
   "source": [
    "len(ids_to_delete)\n",
    "for ii in tqdm.tqdm(ids_to_delete):\n",
    "    execute_query(f\"DELETE FROM inegalites_cinema.cheffes_postes WHERE id = {ii}\")"
   ]
  },
  {
   "cell_type": "code",
   "execution_count": 19,
   "metadata": {
    "ExecuteTime": {
     "end_time": "2025-02-20T22:45:08.214072Z",
     "start_time": "2025-02-20T22:45:08.168737Z"
    }
   },
   "outputs": [
    {
     "data": {
      "text/html": [
       "<div>\n",
       "<style scoped>\n",
       "    .dataframe tbody tr th:only-of-type {\n",
       "        vertical-align: middle;\n",
       "    }\n",
       "\n",
       "    .dataframe tbody tr th {\n",
       "        vertical-align: top;\n",
       "    }\n",
       "\n",
       "    .dataframe thead th {\n",
       "        text-align: right;\n",
       "    }\n",
       "</style>\n",
       "<table border=\"1\" class=\"dataframe\">\n",
       "  <thead>\n",
       "    <tr style=\"text-align: right;\">\n",
       "      <th></th>\n",
       "      <th>id</th>\n",
       "      <th>type_de_poste</th>\n",
       "      <th>nom</th>\n",
       "    </tr>\n",
       "  </thead>\n",
       "  <tbody>\n",
       "    <tr>\n",
       "      <th>0</th>\n",
       "      <td>4373</td>\n",
       "      <td>Réalisation</td>\n",
       "      <td>ISMAEL</td>\n",
       "    </tr>\n",
       "    <tr>\n",
       "      <th>1</th>\n",
       "      <td>4430</td>\n",
       "      <td>Réalisation</td>\n",
       "      <td>JR</td>\n",
       "    </tr>\n",
       "    <tr>\n",
       "      <th>2</th>\n",
       "      <td>4544</td>\n",
       "      <td>Réalisation</td>\n",
       "      <td>Kafka</td>\n",
       "    </tr>\n",
       "    <tr>\n",
       "      <th>3</th>\n",
       "      <td>4580</td>\n",
       "      <td>Réalisation</td>\n",
       "      <td>LAM-LE</td>\n",
       "    </tr>\n",
       "    <tr>\n",
       "      <th>4</th>\n",
       "      <td>4650</td>\n",
       "      <td>Réalisation</td>\n",
       "      <td>LE Lam</td>\n",
       "    </tr>\n",
       "  </tbody>\n",
       "</table>\n",
       "</div>"
      ],
      "text/plain": [
       "     id type_de_poste     nom\n",
       "0  4373   Réalisation  ISMAEL\n",
       "1  4430   Réalisation      JR\n",
       "2  4544   Réalisation   Kafka\n",
       "3  4580   Réalisation  LAM-LE\n",
       "4  4650   Réalisation  LE Lam"
      ]
     },
     "execution_count": 19,
     "metadata": {},
     "output_type": "execute_result"
    }
   ],
   "source": [
    "df_realisateurs = query_data(\"SELECT id, type_de_poste, nom FROM inegalites_cinema.cheffes_postes where type_de_poste='Réalisation'\")\n",
    "df_realisateurs.head()"
   ]
  },
  {
   "cell_type": "code",
   "execution_count": 20,
   "metadata": {
    "ExecuteTime": {
     "end_time": "2025-02-20T22:45:10.533346Z",
     "start_time": "2025-02-20T22:45:09.996230Z"
    }
   },
   "outputs": [
    {
     "data": {
      "text/html": [
       "<div>\n",
       "<style scoped>\n",
       "    .dataframe tbody tr th:only-of-type {\n",
       "        vertical-align: middle;\n",
       "    }\n",
       "\n",
       "    .dataframe tbody tr th {\n",
       "        vertical-align: top;\n",
       "    }\n",
       "\n",
       "    .dataframe thead th {\n",
       "        text-align: right;\n",
       "    }\n",
       "</style>\n",
       "<table border=\"1\" class=\"dataframe\">\n",
       "  <thead>\n",
       "    <tr style=\"text-align: right;\">\n",
       "      <th></th>\n",
       "      <th>id</th>\n",
       "      <th>type_de_poste</th>\n",
       "      <th>nom</th>\n",
       "      <th>similarity_score</th>\n",
       "    </tr>\n",
       "  </thead>\n",
       "  <tbody>\n",
       "    <tr>\n",
       "      <th>310</th>\n",
       "      <td>2796</td>\n",
       "      <td>Réalisation</td>\n",
       "      <td>ALCALA Jose</td>\n",
       "      <td>0.936364</td>\n",
       "    </tr>\n",
       "  </tbody>\n",
       "</table>\n",
       "</div>"
      ],
      "text/plain": [
       "       id type_de_poste          nom  similarity_score\n",
       "310  2796   Réalisation  ALCALA Jose          0.936364"
      ]
     },
     "execution_count": 20,
     "metadata": {},
     "output_type": "execute_result"
    }
   ],
   "source": [
    "find_matches('José ALCALA', df_realisateurs, 'nom')"
   ]
  },
  {
   "cell_type": "markdown",
   "metadata": {},
   "source": [
    "### PROCESS FILMS DATASET"
   ]
  },
  {
   "cell_type": "code",
   "execution_count": null,
   "metadata": {},
   "outputs": [],
   "source": [
    "df_film = pd.read_excel(filename, sheet_name=sheet_names[0], skiprows=4)\n",
    "df_film.columns = [col.lower().replace(' ', '_') for col in df_film.columns]\n",
    "df_film[\"realisateur\"] = [[name.strip() for name in tt.split('/')] for tt in df_film['realisateur'].fillna(\"\").tolist()]\n",
    "df_film = df_film.explode(\"realisateur\")\n",
    "df_film.columns = ['n_visa_exploitation', 'nom_originel', 'realisateur', 'producteurs', 'devis', 'genre', 'eof',\n",
    "       'rang', 'bonus_parite_', 'asr', 'payant', 'clair', 'sofica',\n",
    "       'credit_dimpot', 'aide_regionale', 'nationalite']\n",
    "df_film.head()"
   ]
  },
  {
   "cell_type": "code",
   "execution_count": null,
   "metadata": {},
   "outputs": [],
   "source": [
    "df_realisateurs = query_data(\"select id, nom from inegalites_cinema.realisateur\")\n",
    "df_realisateurs.head(3)"
   ]
  },
  {
   "cell_type": "code",
   "execution_count": null,
   "metadata": {},
   "outputs": [],
   "source": [
    "columns_clean = df_film.columns.tolist()\n",
    "columns_clean.remove('realisateur')\n",
    "\n",
    "df_film_clean = pd.DataFrame([], columns = ['n_visa_exploitation', 'nom_originel', 'realisateur', 'producteurs', 'devis', 'genre', 'id_realisateur'])"
   ]
  },
  {
   "cell_type": "code",
   "execution_count": null,
   "metadata": {},
   "outputs": [],
   "source": [
    "realisateur_to_check = []\n",
    "for sheet in sheet_names:\n",
    "    df_film = pd.read_excel(filename, sheet_name=sheet, skiprows=4)\n",
    "    df_film.columns = [col.lower().replace(' ', '_') for col in df_film.columns]\n",
    "    df_film[\"realisateur\"] = [[name.strip() for name in tt.split('/')] for tt in df_film['realisateur'].fillna(\"\").tolist()]\n",
    "    df_film = df_film.explode(\"realisateur\")\n",
    "    df_film.columns = ['n_visa_exploitation', 'nom_originel', 'realisateur', 'producteurs', 'devis', 'genre', 'eof',\n",
    "       'rang', 'bonus_parite_', 'asr', 'payant', 'clair', 'sofica',\n",
    "       'credit_dimpot', 'aide_regionale', 'nationalite']\n",
    "    df_film = df_film[['n_visa_exploitation', 'nom_originel', 'realisateur', 'producteurs', 'devis', 'genre']]\n",
    "    \n",
    "    # iterate over df_film, match the realisateur with the database and add the id to the dataframe\n",
    "    for index, row in tqdm.tqdm(df_film.iterrows(), total=len(df_film), desc=f\"Processing {sheet}\"):\n",
    "        realisateur = row['realisateur']\n",
    "        matches = find_matches(realisateur, df_realisateurs, 'nom', threshold=0.9)\n",
    "        if len(matches) == 1:\n",
    "            df_toadd = pd.DataFrame([row])\n",
    "            df_toadd['id_realisateur'] = matches.iloc[0]['id']\n",
    "            df_film_clean = pd.concat([df_film_clean, df_toadd], ignore_index=True)\n",
    "        else:\n",
    "            print(f\"Realisateur: {realisateur}\")\n",
    "            print(matches)\n",
    "            print()\n",
    "            realisateur_to_check.append(realisateur)\n",
    "    \n",
    "    break"
   ]
  },
  {
   "cell_type": "code",
   "execution_count": null,
   "metadata": {},
   "outputs": [],
   "source": [
    "matches.iloc[0]['id']"
   ]
  },
  {
   "cell_type": "markdown",
   "metadata": {},
   "source": [
    "## LOAD DATASET Dataset5050_César 1976-2024.xlsx"
   ]
  },
  {
   "cell_type": "code",
   "execution_count": null,
   "metadata": {},
   "outputs": [],
   "source": [
    "# Read both sheets from the Excel file\n",
    "df_films = pd.read_excel('data/Dataset5050_César 1976-2024.xlsx', sheet_name='Films')\n",
    "df_personnes = pd.read_excel('data/Dataset5050_César 1976-2024.xlsx', sheet_name='Personnes')\n"
   ]
  },
  {
   "cell_type": "code",
   "execution_count": null,
   "metadata": {},
   "outputs": [],
   "source": [
    "df_films.head()"
   ]
  },
  {
   "cell_type": "code",
   "execution_count": null,
   "metadata": {},
   "outputs": [],
   "source": [
    "df_personnes.head()"
   ]
  },
  {
   "cell_type": "markdown",
   "metadata": {},
   "source": [
    "## LOAD DATASET Dataset5050_Cheffes de poste 2023.xlsx - LISTE_FINALE_FILMS_RETENUS.xlsx\n"
   ]
  },
  {
   "cell_type": "code",
   "execution_count": null,
   "metadata": {},
   "outputs": [],
   "source": []
  }
 ],
 "metadata": {
  "kernelspec": {
   "display_name": ".venv",
   "language": "python",
   "name": "python3"
  },
  "language_info": {
   "codemirror_mode": {
    "name": "ipython",
    "version": 3
   },
   "file_extension": ".py",
   "mimetype": "text/x-python",
   "name": "python",
   "nbconvert_exporter": "python",
   "pygments_lexer": "ipython3",
   "version": "3.13.0"
  }
 },
 "nbformat": 4,
 "nbformat_minor": 2
}
