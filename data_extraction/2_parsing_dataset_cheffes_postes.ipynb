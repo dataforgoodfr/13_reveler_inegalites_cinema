{
 "cells": [
  {
   "cell_type": "code",
   "execution_count": 1,
   "metadata": {
    "ExecuteTime": {
     "end_time": "2025-02-20T22:01:58.159488Z",
     "start_time": "2025-02-20T22:01:55.982846Z"
    }
   },
   "outputs": [
    {
     "data": {
      "text/plain": [
       "True"
      ]
     },
     "execution_count": 1,
     "metadata": {},
     "output_type": "execute_result"
    }
   ],
   "source": [
    "!pip install mistralai tqdm psycopg2-binary sqlalchemy python-dotenv pandas termcolor openpyxl black --quiet\n",
    "\n",
    "%load_ext autoreload\n",
    "%autoreload 2\n",
    "\n",
    "from database.getdata import query_data, get_connection, execute_query\n",
    "from database.matching import find_matches, compare_names\n",
    "\n",
    "import pandas as pd \n",
    "import os\n",
    "from mistralai import Mistral\n",
    "from dotenv import load_dotenv\n",
    "import tqdm\n",
    "\n",
    "import json\n",
    "load_dotenv()"
   ]
  },
  {
   "cell_type": "code",
   "execution_count": null,
   "metadata": {
    "ExecuteTime": {
     "end_time": "2025-02-20T22:01:58.298012Z",
     "start_time": "2025-02-20T22:01:58.295482Z"
    }
   },
   "outputs": [],
   "source": []
  },
  {
   "cell_type": "markdown",
   "metadata": {},
   "source": [
    "## LOAD DATASET Dataset5050_Cheffes de poste 2023.xlsx - LISTE_FINALE_FILMS_RETENUS.xlsx\n"
   ]
  },
  {
   "cell_type": "code",
   "execution_count": 2,
   "metadata": {
    "ExecuteTime": {
     "end_time": "2025-02-20T22:01:58.381930Z",
     "start_time": "2025-02-20T22:01:58.340766Z"
    }
   },
   "outputs": [
    {
     "data": {
      "text/html": [
       "<div>\n",
       "<style scoped>\n",
       "    .dataframe tbody tr th:only-of-type {\n",
       "        vertical-align: middle;\n",
       "    }\n",
       "\n",
       "    .dataframe tbody tr th {\n",
       "        vertical-align: top;\n",
       "    }\n",
       "\n",
       "    .dataframe thead th {\n",
       "        text-align: right;\n",
       "    }\n",
       "</style>\n",
       "<table border=\"1\" class=\"dataframe\">\n",
       "  <thead>\n",
       "    <tr style=\"text-align: right;\">\n",
       "      <th></th>\n",
       "      <th>Film id</th>\n",
       "      <th>Titre</th>\n",
       "      <th>Poste</th>\n",
       "      <th>Nom</th>\n",
       "      <th>Genre</th>\n",
       "      <th>Visa</th>\n",
       "      <th>Genre_Film</th>\n",
       "      <th>Bonus_Parité</th>\n",
       "      <th>Devis</th>\n",
       "      <th>Tranche_Devis</th>\n",
       "      <th>Femme_Real</th>\n",
       "    </tr>\n",
       "  </thead>\n",
       "  <tbody>\n",
       "    <tr>\n",
       "      <th>0</th>\n",
       "      <td>53337</td>\n",
       "      <td>Rue des Dames</td>\n",
       "      <td>Producteur délégué</td>\n",
       "      <td>Hamé</td>\n",
       "      <td>H</td>\n",
       "      <td>147799</td>\n",
       "      <td>fiction</td>\n",
       "      <td>0</td>\n",
       "      <td>2038083</td>\n",
       "      <td>3_ De 2 à 3 millions</td>\n",
       "      <td>Non</td>\n",
       "    </tr>\n",
       "    <tr>\n",
       "      <th>1</th>\n",
       "      <td>56951</td>\n",
       "      <td>Vourdalak</td>\n",
       "      <td>Producteur délégué</td>\n",
       "      <td>Judith Lou Lévy</td>\n",
       "      <td>F</td>\n",
       "      <td>156774</td>\n",
       "      <td>Fiction</td>\n",
       "      <td>NaN</td>\n",
       "      <td>1797405</td>\n",
       "      <td>2_ De 1 à 2 millions</td>\n",
       "      <td>Non</td>\n",
       "    </tr>\n",
       "    <tr>\n",
       "      <th>2</th>\n",
       "      <td>56353</td>\n",
       "      <td>Low-Tech</td>\n",
       "      <td>Producteur délégué</td>\n",
       "      <td>Lissandra Haulica</td>\n",
       "      <td>F</td>\n",
       "      <td>154656</td>\n",
       "      <td>documentaire</td>\n",
       "      <td>0</td>\n",
       "      <td>207079</td>\n",
       "      <td>1_ Moins de 1 million</td>\n",
       "      <td>Non</td>\n",
       "    </tr>\n",
       "    <tr>\n",
       "      <th>3</th>\n",
       "      <td>54224</td>\n",
       "      <td>Polaris</td>\n",
       "      <td>Producteur délégué</td>\n",
       "      <td>Clara Vuillermoz</td>\n",
       "      <td>F</td>\n",
       "      <td>155317</td>\n",
       "      <td>documentaire</td>\n",
       "      <td>x</td>\n",
       "      <td>463611</td>\n",
       "      <td>1_ Moins de 1 million</td>\n",
       "      <td>Oui</td>\n",
       "    </tr>\n",
       "    <tr>\n",
       "      <th>4</th>\n",
       "      <td>52192</td>\n",
       "      <td>Pulse</td>\n",
       "      <td>Producteur délégué</td>\n",
       "      <td>Sébastien Aubert</td>\n",
       "      <td>H</td>\n",
       "      <td>148404</td>\n",
       "      <td>fiction</td>\n",
       "      <td>x</td>\n",
       "      <td>1219975</td>\n",
       "      <td>2_ De 1 à 2 millions</td>\n",
       "      <td>Oui</td>\n",
       "    </tr>\n",
       "    <tr>\n",
       "      <th>...</th>\n",
       "      <td>...</td>\n",
       "      <td>...</td>\n",
       "      <td>...</td>\n",
       "      <td>...</td>\n",
       "      <td>...</td>\n",
       "      <td>...</td>\n",
       "      <td>...</td>\n",
       "      <td>...</td>\n",
       "      <td>...</td>\n",
       "      <td>...</td>\n",
       "      <td>...</td>\n",
       "    </tr>\n",
       "    <tr>\n",
       "      <th>3512</th>\n",
       "      <td>56429</td>\n",
       "      <td>Soudain seuls</td>\n",
       "      <td>Effets spéciaux</td>\n",
       "      <td>Pierre Procoudine-Gorsky</td>\n",
       "      <td>H</td>\n",
       "      <td>146672</td>\n",
       "      <td>fiction</td>\n",
       "      <td>0</td>\n",
       "      <td>14333978</td>\n",
       "      <td>15_ De 14 à 15 millions</td>\n",
       "      <td>Non</td>\n",
       "    </tr>\n",
       "    <tr>\n",
       "      <th>3513</th>\n",
       "      <td>55883</td>\n",
       "      <td>Règne animal</td>\n",
       "      <td>Effets spéciaux</td>\n",
       "      <td>Pascal Molina</td>\n",
       "      <td>H</td>\n",
       "      <td>155459</td>\n",
       "      <td>fiction</td>\n",
       "      <td>0</td>\n",
       "      <td>15983936</td>\n",
       "      <td>16_ De 15 à 16 millions</td>\n",
       "      <td>Non</td>\n",
       "    </tr>\n",
       "    <tr>\n",
       "      <th>3514</th>\n",
       "      <td>54622</td>\n",
       "      <td>Guerre des Lulus</td>\n",
       "      <td>Effets spéciaux</td>\n",
       "      <td>Martin Trepreau</td>\n",
       "      <td>H</td>\n",
       "      <td>152873</td>\n",
       "      <td>fiction</td>\n",
       "      <td>0</td>\n",
       "      <td>7987433</td>\n",
       "      <td>8_ De 7 à 8 millions</td>\n",
       "      <td>Non</td>\n",
       "    </tr>\n",
       "    <tr>\n",
       "      <th>3515</th>\n",
       "      <td>55708</td>\n",
       "      <td>Alibi.com 2</td>\n",
       "      <td>Effets spéciaux</td>\n",
       "      <td>Stephane Bidault</td>\n",
       "      <td>H</td>\n",
       "      <td>157074</td>\n",
       "      <td>fiction</td>\n",
       "      <td>0</td>\n",
       "      <td>18433224</td>\n",
       "      <td>19_ De 18 à 19 millions</td>\n",
       "      <td>Non</td>\n",
       "    </tr>\n",
       "    <tr>\n",
       "      <th>3516</th>\n",
       "      <td>55708</td>\n",
       "      <td>Alibi.com 2</td>\n",
       "      <td>Effets spéciaux</td>\n",
       "      <td>Simon Binaut</td>\n",
       "      <td>H</td>\n",
       "      <td>157074</td>\n",
       "      <td>fiction</td>\n",
       "      <td>0</td>\n",
       "      <td>18433224</td>\n",
       "      <td>19_ De 18 à 19 millions</td>\n",
       "      <td>Non</td>\n",
       "    </tr>\n",
       "  </tbody>\n",
       "</table>\n",
       "<p>3517 rows × 11 columns</p>\n",
       "</div>"
      ],
      "text/plain": [
       "      Film id             Titre               Poste                       Nom  \\\n",
       "0       53337     Rue des Dames  Producteur délégué                      Hamé   \n",
       "1       56951         Vourdalak  Producteur délégué           Judith Lou Lévy   \n",
       "2       56353          Low-Tech  Producteur délégué         Lissandra Haulica   \n",
       "3       54224           Polaris  Producteur délégué          Clara Vuillermoz   \n",
       "4       52192             Pulse  Producteur délégué          Sébastien Aubert   \n",
       "...       ...               ...                 ...                       ...   \n",
       "3512    56429     Soudain seuls     Effets spéciaux  Pierre Procoudine-Gorsky   \n",
       "3513    55883      Règne animal     Effets spéciaux             Pascal Molina   \n",
       "3514    54622  Guerre des Lulus     Effets spéciaux           Martin Trepreau   \n",
       "3515    55708       Alibi.com 2     Effets spéciaux          Stephane Bidault   \n",
       "3516    55708       Alibi.com 2     Effets spéciaux              Simon Binaut   \n",
       "\n",
       "     Genre    Visa    Genre_Film Bonus_Parité     Devis  \\\n",
       "0        H  147799       fiction            0   2038083   \n",
       "1        F  156774       Fiction          NaN   1797405   \n",
       "2        F  154656  documentaire            0    207079   \n",
       "3        F  155317  documentaire            x    463611   \n",
       "4        H  148404       fiction            x   1219975   \n",
       "...    ...     ...           ...          ...       ...   \n",
       "3512     H  146672       fiction            0  14333978   \n",
       "3513     H  155459       fiction            0  15983936   \n",
       "3514     H  152873       fiction            0   7987433   \n",
       "3515     H  157074       fiction            0  18433224   \n",
       "3516     H  157074       fiction            0  18433224   \n",
       "\n",
       "                Tranche_Devis Femme_Real  \n",
       "0        3_ De 2 à 3 millions        Non  \n",
       "1        2_ De 1 à 2 millions        Non  \n",
       "2       1_ Moins de 1 million        Non  \n",
       "3       1_ Moins de 1 million        Oui  \n",
       "4        2_ De 1 à 2 millions        Oui  \n",
       "...                       ...        ...  \n",
       "3512  15_ De 14 à 15 millions        Non  \n",
       "3513  16_ De 15 à 16 millions        Non  \n",
       "3514     8_ De 7 à 8 millions        Non  \n",
       "3515  19_ De 18 à 19 millions        Non  \n",
       "3516  19_ De 18 à 19 millions        Non  \n",
       "\n",
       "[3517 rows x 11 columns]"
      ]
     },
     "execution_count": 2,
     "metadata": {},
     "output_type": "execute_result"
    }
   ],
   "source": [
    "# read csv file data/Dataset5050_Cheffes de poste 2023.xlsx - LISTE_FINALE_FILMS_RETENUS.csv\n",
    "\n",
    "df = pd.read_csv('../database/data/Dataset5050_Cheffes de poste 2023.xlsx - LISTE_FINALE_FILMS_RETENUS.csv')\n",
    "df"
   ]
  },
  {
   "cell_type": "code",
   "execution_count": 3,
   "metadata": {
    "ExecuteTime": {
     "end_time": "2025-02-20T22:01:58.465427Z",
     "start_time": "2025-02-20T22:01:58.449834Z"
    }
   },
   "outputs": [
    {
     "name": "stdout",
     "output_type": "stream",
     "text": [
      "Nombre de lignes : 3517\n",
      "Nombre de Visa uniques : 247\n",
      "Nombre de Titre uniques : 247\n"
     ]
    }
   ],
   "source": [
    "print(f\"Nombre de lignes : {df.shape[0]}\")\n",
    "print(f\"Nombre de Visa uniques : {df['Visa'].nunique()}\")\n",
    "print(f\"Nombre de Titre uniques : {df['Titre'].nunique()}\")"
   ]
  },
  {
   "cell_type": "code",
   "execution_count": 4,
   "metadata": {
    "ExecuteTime": {
     "end_time": "2025-02-20T22:01:58.634903Z",
     "start_time": "2025-02-20T22:01:58.619003Z"
    }
   },
   "outputs": [
    {
     "name": "stdout",
     "output_type": "stream",
     "text": [
      "NOmbre de cheffes de postes distincts : 2445\n",
      "Nombre de Postes distincts : 13\n"
     ]
    }
   ],
   "source": [
    "print(f\"NOmbre de cheffes de postes distincts : {df['Nom'].nunique()}\")\n",
    "print(f\"Nombre de Postes distincts : {df['Poste'].nunique()}\")"
   ]
  },
  {
   "cell_type": "code",
   "execution_count": 5,
   "metadata": {
    "ExecuteTime": {
     "end_time": "2025-02-20T22:01:58.876243Z",
     "start_time": "2025-02-20T22:01:58.860326Z"
    }
   },
   "outputs": [
    {
     "data": {
      "text/plain": [
       "array(['Non', 'Oui'], dtype=object)"
      ]
     },
     "execution_count": 5,
     "metadata": {},
     "output_type": "execute_result"
    }
   ],
   "source": [
    "df['Femme_Real'].unique()\n"
   ]
  },
  {
   "cell_type": "code",
   "execution_count": 6,
   "metadata": {
    "ExecuteTime": {
     "end_time": "2025-02-20T22:01:58.998129Z",
     "start_time": "2025-02-20T22:01:58.981612Z"
    }
   },
   "outputs": [
    {
     "data": {
      "text/plain": [
       "array(['0', nan, 'x'], dtype=object)"
      ]
     },
     "execution_count": 6,
     "metadata": {},
     "output_type": "execute_result"
    }
   ],
   "source": [
    "df['Bonus_Parité'].unique()"
   ]
  },
  {
   "cell_type": "code",
   "execution_count": 7,
   "metadata": {
    "ExecuteTime": {
     "end_time": "2025-02-20T22:01:59.263377Z",
     "start_time": "2025-02-20T22:01:59.148255Z"
    }
   },
   "outputs": [
    {
     "data": {
      "text/html": [
       "<div>\n",
       "<style scoped>\n",
       "    .dataframe tbody tr th:only-of-type {\n",
       "        vertical-align: middle;\n",
       "    }\n",
       "\n",
       "    .dataframe tbody tr th {\n",
       "        vertical-align: top;\n",
       "    }\n",
       "\n",
       "    .dataframe thead th {\n",
       "        text-align: right;\n",
       "    }\n",
       "</style>\n",
       "<table border=\"1\" class=\"dataframe\">\n",
       "  <thead>\n",
       "    <tr style=\"text-align: right;\">\n",
       "      <th></th>\n",
       "      <th>id</th>\n",
       "      <th>type_de_poste</th>\n",
       "      <th>nom</th>\n",
       "      <th>genre</th>\n",
       "      <th>nom2</th>\n",
       "      <th>created_at</th>\n",
       "      <th>updated_at</th>\n",
       "    </tr>\n",
       "  </thead>\n",
       "  <tbody>\n",
       "  </tbody>\n",
       "</table>\n",
       "</div>"
      ],
      "text/plain": [
       "Empty DataFrame\n",
       "Columns: [id, type_de_poste, nom, genre, nom2, created_at, updated_at]\n",
       "Index: []"
      ]
     },
     "execution_count": 7,
     "metadata": {},
     "output_type": "execute_result"
    }
   ],
   "source": [
    "df_cp = query_data('SELECT * FROM inegalites_cinema.cheffes_postes')\n",
    "df_cp\n"
   ]
  },
  {
   "cell_type": "code",
   "execution_count": 8,
   "metadata": {
    "ExecuteTime": {
     "end_time": "2025-02-20T22:01:59.388914Z",
     "start_time": "2025-02-20T22:01:59.343509Z"
    }
   },
   "outputs": [
    {
     "data": {
      "text/html": [
       "<div>\n",
       "<style scoped>\n",
       "    .dataframe tbody tr th:only-of-type {\n",
       "        vertical-align: middle;\n",
       "    }\n",
       "\n",
       "    .dataframe tbody tr th {\n",
       "        vertical-align: top;\n",
       "    }\n",
       "\n",
       "    .dataframe thead th {\n",
       "        text-align: right;\n",
       "    }\n",
       "</style>\n",
       "<table border=\"1\" class=\"dataframe\">\n",
       "  <thead>\n",
       "    <tr style=\"text-align: right;\">\n",
       "      <th></th>\n",
       "      <th>id</th>\n",
       "      <th>nom_originel</th>\n",
       "      <th>date_sortie_france</th>\n",
       "      <th>pays</th>\n",
       "      <th>duree</th>\n",
       "      <th>langue_principale</th>\n",
       "      <th>format</th>\n",
       "      <th>n_visa_exploitation</th>\n",
       "      <th>devis</th>\n",
       "      <th>genre</th>\n",
       "      <th>bonus_parite</th>\n",
       "      <th>femme_realisatrice</th>\n",
       "      <th>created_at</th>\n",
       "      <th>updated_at</th>\n",
       "    </tr>\n",
       "  </thead>\n",
       "  <tbody>\n",
       "  </tbody>\n",
       "</table>\n",
       "</div>"
      ],
      "text/plain": [
       "Empty DataFrame\n",
       "Columns: [id, nom_originel, date_sortie_france, pays, duree, langue_principale, format, n_visa_exploitation, devis, genre, bonus_parite, femme_realisatrice, created_at, updated_at]\n",
       "Index: []"
      ]
     },
     "execution_count": 8,
     "metadata": {},
     "output_type": "execute_result"
    }
   ],
   "source": [
    "df_film = query_data('SELECT * FROM inegalites_cinema.film')\n",
    "df_film"
   ]
  },
  {
   "cell_type": "markdown",
   "metadata": {},
   "source": [
    "## J'AJOUTE LES FILMS"
   ]
  },
  {
   "cell_type": "code",
   "execution_count": 9,
   "metadata": {
    "ExecuteTime": {
     "end_time": "2025-02-20T22:01:59.546903Z",
     "start_time": "2025-02-20T22:01:59.483872Z"
    }
   },
   "outputs": [
    {
     "data": {
      "text/plain": [
       "247"
      ]
     },
     "execution_count": 9,
     "metadata": {},
     "output_type": "execute_result"
    }
   ],
   "source": [
    "df_film = pd.DataFrame({\n",
    "    'nom_originel': df['Titre'],\n",
    "    'n_visa_exploitation': df['Visa'].where(df['Visa'].notna(), None),\n",
    "    'genre': df['Genre_Film'].where(df['Genre_Film'].notna(), None),\n",
    "    'bonus_parite': df['Bonus_Parité'] == 'x',\n",
    "    'devis': df['Devis'].where(df['Devis'].notna(), None),\n",
    "    'femme_realisatrice': df['Femme_Real'] == 'Oui'\n",
    "})\n",
    "\n",
    "df_film.drop_duplicates().to_sql(\n",
    "    'film',\n",
    "    get_connection(),\n",
    "    schema='inegalites_cinema',\n",
    "    if_exists='append',\n",
    "    index=False\n",
    ")"
   ]
  },
  {
   "cell_type": "markdown",
   "metadata": {},
   "source": [
    "## J'AJOUTE LES CHEFFES DE POSTES QUI NE SONT PAS DANS LA BASE DE DONNEES"
   ]
  },
  {
   "cell_type": "code",
   "execution_count": 10,
   "metadata": {
    "ExecuteTime": {
     "end_time": "2025-02-20T22:01:59.704283Z",
     "start_time": "2025-02-20T22:01:59.598919Z"
    }
   },
   "outputs": [
    {
     "data": {
      "text/plain": [
       "755"
      ]
     },
     "execution_count": 10,
     "metadata": {},
     "output_type": "execute_result"
    }
   ],
   "source": [
    "# Create new DataFrame directly from source columns\n",
    "new_cheffes_postes = pd.DataFrame({\n",
    "    'nom': df['Nom'],\n",
    "    'type_de_poste': df['Poste'],\n",
    "    'genre': df['Genre']\n",
    "})\n",
    "\n",
    "# Remove duplicates and append to database\n",
    "new_cheffes_postes.drop_duplicates().to_sql(\n",
    "    'cheffes_postes',\n",
    "    get_connection(),\n",
    "    schema='inegalites_cinema',\n",
    "    if_exists='append',\n",
    "    index=False\n",
    ")"
   ]
  },
  {
   "cell_type": "code",
   "execution_count": 11,
   "metadata": {
    "ExecuteTime": {
     "end_time": "2025-02-20T22:01:59.794895Z",
     "start_time": "2025-02-20T22:01:59.723631Z"
    }
   },
   "outputs": [],
   "source": [
    "df_cp = query_data('SELECT * FROM inegalites_cinema.cheffes_postes')\n",
    "\n",
    "df_film = query_data('SELECT * FROM inegalites_cinema.film')"
   ]
  },
  {
   "cell_type": "code",
   "execution_count": 12,
   "metadata": {
    "ExecuteTime": {
     "end_time": "2025-02-20T22:02:00.050252Z",
     "start_time": "2025-02-20T22:01:59.816351Z"
    }
   },
   "outputs": [
    {
     "data": {
      "text/plain": [
       "517"
      ]
     },
     "execution_count": 12,
     "metadata": {},
     "output_type": "execute_result"
    }
   ],
   "source": [
    "# join df with df_film\n",
    "df_merged = df.merge(df_film, left_on='Titre', right_on='nom_originel', how='left')\n",
    "df_merged.rename(columns={'id': 'id_film'}, inplace=True)\n",
    "\n",
    "# merge with df_cp on Nom<->nom and Poste<->type_de_poste\n",
    "df_merged = df_merged.merge(df_cp,\n",
    "                            left_on=['Nom', 'Poste'],\n",
    "                            right_on=['nom', 'type_de_poste'],\n",
    "                            how='left')\n",
    "\n",
    "df_merged.rename(columns={'id': 'id_cheffes_postes'}, inplace=True)\n",
    "\n",
    "df_merged[['id_film', 'id_cheffes_postes']].to_sql(\n",
    "    'film_cheffes_postes',\n",
    "    get_connection(),\n",
    "    schema='inegalites_cinema',\n",
    "    if_exists='replace',\n",
    "    index=False\n",
    ")"
   ]
  },
  {
   "cell_type": "code",
   "execution_count": 13,
   "metadata": {
    "ExecuteTime": {
     "end_time": "2025-02-20T22:02:00.150400Z",
     "start_time": "2025-02-20T22:02:00.120567Z"
    }
   },
   "outputs": [
    {
     "data": {
      "text/html": [
       "<div>\n",
       "<style scoped>\n",
       "    .dataframe tbody tr th:only-of-type {\n",
       "        vertical-align: middle;\n",
       "    }\n",
       "\n",
       "    .dataframe tbody tr th {\n",
       "        vertical-align: top;\n",
       "    }\n",
       "\n",
       "    .dataframe thead th {\n",
       "        text-align: right;\n",
       "    }\n",
       "</style>\n",
       "<table border=\"1\" class=\"dataframe\">\n",
       "  <thead>\n",
       "    <tr style=\"text-align: right;\">\n",
       "      <th></th>\n",
       "      <th>Film id</th>\n",
       "      <th>Titre</th>\n",
       "      <th>Poste</th>\n",
       "      <th>Nom</th>\n",
       "      <th>Genre</th>\n",
       "      <th>Visa</th>\n",
       "      <th>Genre_Film</th>\n",
       "      <th>Bonus_Parité</th>\n",
       "      <th>Devis</th>\n",
       "      <th>Tranche_Devis</th>\n",
       "      <th>Femme_Real</th>\n",
       "    </tr>\n",
       "  </thead>\n",
       "  <tbody>\n",
       "    <tr>\n",
       "      <th>1148</th>\n",
       "      <td>54589</td>\n",
       "      <td>Petites</td>\n",
       "      <td>Scénariste</td>\n",
       "      <td>Julie Lerat-Gersant</td>\n",
       "      <td>F</td>\n",
       "      <td>155500</td>\n",
       "      <td>fiction</td>\n",
       "      <td>x</td>\n",
       "      <td>1851787</td>\n",
       "      <td>2_ De 1 à 2 millions</td>\n",
       "      <td>Oui</td>\n",
       "    </tr>\n",
       "    <tr>\n",
       "      <th>3042</th>\n",
       "      <td>54589</td>\n",
       "      <td>Petites</td>\n",
       "      <td>Réalisation</td>\n",
       "      <td>Julie Lerat-Gersant</td>\n",
       "      <td>F</td>\n",
       "      <td>155500</td>\n",
       "      <td>fiction</td>\n",
       "      <td>x</td>\n",
       "      <td>1851787</td>\n",
       "      <td>2_ De 1 à 2 millions</td>\n",
       "      <td>Oui</td>\n",
       "    </tr>\n",
       "  </tbody>\n",
       "</table>\n",
       "</div>"
      ],
      "text/plain": [
       "      Film id    Titre        Poste                  Nom Genre    Visa  \\\n",
       "1148    54589  Petites   Scénariste  Julie Lerat-Gersant     F  155500   \n",
       "3042    54589  Petites  Réalisation  Julie Lerat-Gersant     F  155500   \n",
       "\n",
       "     Genre_Film Bonus_Parité    Devis         Tranche_Devis Femme_Real  \n",
       "1148    fiction            x  1851787  2_ De 1 à 2 millions        Oui  \n",
       "3042    fiction            x  1851787  2_ De 1 à 2 millions        Oui  "
      ]
     },
     "execution_count": 13,
     "metadata": {},
     "output_type": "execute_result"
    }
   ],
   "source": [
    "df[df['Nom']=='Julie Lerat-Gersant']"
   ]
  },
  {
   "cell_type": "code",
   "execution_count": 14,
   "metadata": {
    "ExecuteTime": {
     "end_time": "2025-02-20T22:02:00.240673Z",
     "start_time": "2025-02-20T22:02:00.210638Z"
    }
   },
   "outputs": [
    {
     "data": {
      "text/html": [
       "<div>\n",
       "<style scoped>\n",
       "    .dataframe tbody tr th:only-of-type {\n",
       "        vertical-align: middle;\n",
       "    }\n",
       "\n",
       "    .dataframe tbody tr th {\n",
       "        vertical-align: top;\n",
       "    }\n",
       "\n",
       "    .dataframe thead th {\n",
       "        text-align: right;\n",
       "    }\n",
       "</style>\n",
       "<table border=\"1\" class=\"dataframe\">\n",
       "  <thead>\n",
       "    <tr style=\"text-align: right;\">\n",
       "      <th></th>\n",
       "      <th>Film id</th>\n",
       "      <th>Titre</th>\n",
       "      <th>Poste</th>\n",
       "      <th>Nom</th>\n",
       "      <th>Genre</th>\n",
       "      <th>Visa</th>\n",
       "      <th>Genre_Film</th>\n",
       "      <th>Bonus_Parité</th>\n",
       "      <th>Devis</th>\n",
       "      <th>Tranche_Devis</th>\n",
       "      <th>...</th>\n",
       "      <th>femme_realisatrice</th>\n",
       "      <th>created_at_x</th>\n",
       "      <th>updated_at_x</th>\n",
       "      <th>id_cheffes_postes</th>\n",
       "      <th>type_de_poste</th>\n",
       "      <th>nom</th>\n",
       "      <th>genre_y</th>\n",
       "      <th>nom2</th>\n",
       "      <th>created_at_y</th>\n",
       "      <th>updated_at_y</th>\n",
       "    </tr>\n",
       "  </thead>\n",
       "  <tbody>\n",
       "    <tr>\n",
       "      <th>1148</th>\n",
       "      <td>54589</td>\n",
       "      <td>Petites</td>\n",
       "      <td>Scénariste</td>\n",
       "      <td>Julie Lerat-Gersant</td>\n",
       "      <td>F</td>\n",
       "      <td>155500</td>\n",
       "      <td>fiction</td>\n",
       "      <td>x</td>\n",
       "      <td>1851787</td>\n",
       "      <td>2_ De 1 à 2 millions</td>\n",
       "      <td>...</td>\n",
       "      <td>True</td>\n",
       "      <td>2025-02-21 06:58:02.337180</td>\n",
       "      <td>2025-02-21 06:58:02.337180</td>\n",
       "      <td>895</td>\n",
       "      <td>Scénariste</td>\n",
       "      <td>Julie Lerat-Gersant</td>\n",
       "      <td>F</td>\n",
       "      <td>None</td>\n",
       "      <td>2025-02-21 06:58:02.399258</td>\n",
       "      <td>2025-02-21 06:58:02.399258</td>\n",
       "    </tr>\n",
       "    <tr>\n",
       "      <th>3042</th>\n",
       "      <td>54589</td>\n",
       "      <td>Petites</td>\n",
       "      <td>Réalisation</td>\n",
       "      <td>Julie Lerat-Gersant</td>\n",
       "      <td>F</td>\n",
       "      <td>155500</td>\n",
       "      <td>fiction</td>\n",
       "      <td>x</td>\n",
       "      <td>1851787</td>\n",
       "      <td>2_ De 1 à 2 millions</td>\n",
       "      <td>...</td>\n",
       "      <td>True</td>\n",
       "      <td>2025-02-21 06:58:02.337180</td>\n",
       "      <td>2025-02-21 06:58:02.337180</td>\n",
       "      <td>2430</td>\n",
       "      <td>Réalisation</td>\n",
       "      <td>Julie Lerat-Gersant</td>\n",
       "      <td>F</td>\n",
       "      <td>None</td>\n",
       "      <td>2025-02-21 06:58:02.399258</td>\n",
       "      <td>2025-02-21 06:58:02.399258</td>\n",
       "    </tr>\n",
       "  </tbody>\n",
       "</table>\n",
       "<p>2 rows × 32 columns</p>\n",
       "</div>"
      ],
      "text/plain": [
       "      Film id    Titre        Poste                  Nom Genre    Visa  \\\n",
       "1148    54589  Petites   Scénariste  Julie Lerat-Gersant     F  155500   \n",
       "3042    54589  Petites  Réalisation  Julie Lerat-Gersant     F  155500   \n",
       "\n",
       "     Genre_Film Bonus_Parité    Devis         Tranche_Devis  ...  \\\n",
       "1148    fiction            x  1851787  2_ De 1 à 2 millions  ...   \n",
       "3042    fiction            x  1851787  2_ De 1 à 2 millions  ...   \n",
       "\n",
       "     femme_realisatrice               created_at_x               updated_at_x  \\\n",
       "1148               True 2025-02-21 06:58:02.337180 2025-02-21 06:58:02.337180   \n",
       "3042               True 2025-02-21 06:58:02.337180 2025-02-21 06:58:02.337180   \n",
       "\n",
       "     id_cheffes_postes type_de_poste                  nom genre_y  nom2  \\\n",
       "1148               895    Scénariste  Julie Lerat-Gersant       F  None   \n",
       "3042              2430   Réalisation  Julie Lerat-Gersant       F  None   \n",
       "\n",
       "                   created_at_y               updated_at_y  \n",
       "1148 2025-02-21 06:58:02.399258 2025-02-21 06:58:02.399258  \n",
       "3042 2025-02-21 06:58:02.399258 2025-02-21 06:58:02.399258  \n",
       "\n",
       "[2 rows x 32 columns]"
      ]
     },
     "execution_count": 14,
     "metadata": {},
     "output_type": "execute_result"
    }
   ],
   "source": [
    "df_merged[df_merged['Nom']=='Julie Lerat-Gersant']"
   ]
  },
  {
   "cell_type": "code",
   "execution_count": 15,
   "metadata": {
    "ExecuteTime": {
     "end_time": "2025-02-20T22:02:00.292668Z",
     "start_time": "2025-02-20T22:02:00.258932Z"
    }
   },
   "outputs": [
    {
     "data": {
      "text/html": [
       "<div>\n",
       "<style scoped>\n",
       "    .dataframe tbody tr th:only-of-type {\n",
       "        vertical-align: middle;\n",
       "    }\n",
       "\n",
       "    .dataframe tbody tr th {\n",
       "        vertical-align: top;\n",
       "    }\n",
       "\n",
       "    .dataframe thead th {\n",
       "        text-align: right;\n",
       "    }\n",
       "</style>\n",
       "<table border=\"1\" class=\"dataframe\">\n",
       "  <thead>\n",
       "    <tr style=\"text-align: right;\">\n",
       "      <th></th>\n",
       "      <th>id</th>\n",
       "      <th>nom_originel</th>\n",
       "      <th>date_sortie_france</th>\n",
       "      <th>pays</th>\n",
       "      <th>duree</th>\n",
       "      <th>langue_principale</th>\n",
       "      <th>format</th>\n",
       "      <th>n_visa_exploitation</th>\n",
       "      <th>devis</th>\n",
       "      <th>genre</th>\n",
       "      <th>bonus_parite</th>\n",
       "      <th>femme_realisatrice</th>\n",
       "      <th>created_at</th>\n",
       "      <th>updated_at</th>\n",
       "    </tr>\n",
       "  </thead>\n",
       "  <tbody>\n",
       "    <tr>\n",
       "      <th>112</th>\n",
       "      <td>113</td>\n",
       "      <td>Petites</td>\n",
       "      <td>None</td>\n",
       "      <td>None</td>\n",
       "      <td>None</td>\n",
       "      <td>None</td>\n",
       "      <td>None</td>\n",
       "      <td>155500</td>\n",
       "      <td>1851787</td>\n",
       "      <td>fiction</td>\n",
       "      <td>True</td>\n",
       "      <td>True</td>\n",
       "      <td>2025-02-21 06:58:02.337180</td>\n",
       "      <td>2025-02-21 06:58:02.337180</td>\n",
       "    </tr>\n",
       "  </tbody>\n",
       "</table>\n",
       "</div>"
      ],
      "text/plain": [
       "      id nom_originel date_sortie_france  pays duree langue_principale format  \\\n",
       "112  113      Petites               None  None  None              None   None   \n",
       "\n",
       "    n_visa_exploitation    devis    genre  bonus_parite  femme_realisatrice  \\\n",
       "112              155500  1851787  fiction          True                True   \n",
       "\n",
       "                    created_at                 updated_at  \n",
       "112 2025-02-21 06:58:02.337180 2025-02-21 06:58:02.337180  "
      ]
     },
     "execution_count": 15,
     "metadata": {},
     "output_type": "execute_result"
    }
   ],
   "source": [
    "df_film[df_film['nom_originel']=='Petites']"
   ]
  },
  {
   "cell_type": "code",
   "execution_count": 16,
   "metadata": {
    "ExecuteTime": {
     "end_time": "2025-02-20T22:02:00.440851Z",
     "start_time": "2025-02-20T22:02:00.380115Z"
    }
   },
   "outputs": [
    {
     "data": {
      "text/html": [
       "<div>\n",
       "<style scoped>\n",
       "    .dataframe tbody tr th:only-of-type {\n",
       "        vertical-align: middle;\n",
       "    }\n",
       "\n",
       "    .dataframe tbody tr th {\n",
       "        vertical-align: top;\n",
       "    }\n",
       "\n",
       "    .dataframe thead th {\n",
       "        text-align: right;\n",
       "    }\n",
       "</style>\n",
       "<table border=\"1\" class=\"dataframe\">\n",
       "  <thead>\n",
       "    <tr style=\"text-align: right;\">\n",
       "      <th></th>\n",
       "      <th>id</th>\n",
       "      <th>nom_originel</th>\n",
       "      <th>date_sortie_france</th>\n",
       "      <th>pays</th>\n",
       "      <th>duree</th>\n",
       "      <th>langue_principale</th>\n",
       "      <th>format</th>\n",
       "      <th>n_visa_exploitation</th>\n",
       "      <th>devis</th>\n",
       "      <th>genre</th>\n",
       "      <th>bonus_parite</th>\n",
       "      <th>femme_realisatrice</th>\n",
       "      <th>created_at</th>\n",
       "      <th>updated_at</th>\n",
       "      <th>similarity_score</th>\n",
       "    </tr>\n",
       "  </thead>\n",
       "  <tbody>\n",
       "    <tr>\n",
       "      <th>112</th>\n",
       "      <td>113</td>\n",
       "      <td>Petites</td>\n",
       "      <td>None</td>\n",
       "      <td>None</td>\n",
       "      <td>None</td>\n",
       "      <td>None</td>\n",
       "      <td>None</td>\n",
       "      <td>155500</td>\n",
       "      <td>1851787</td>\n",
       "      <td>fiction</td>\n",
       "      <td>True</td>\n",
       "      <td>True</td>\n",
       "      <td>2025-02-21 06:58:02.337180</td>\n",
       "      <td>2025-02-21 06:58:02.337180</td>\n",
       "      <td>1.000000</td>\n",
       "    </tr>\n",
       "    <tr>\n",
       "      <th>90</th>\n",
       "      <td>91</td>\n",
       "      <td>Petite</td>\n",
       "      <td>None</td>\n",
       "      <td>None</td>\n",
       "      <td>None</td>\n",
       "      <td>None</td>\n",
       "      <td>None</td>\n",
       "      <td>156175</td>\n",
       "      <td>7430853</td>\n",
       "      <td>fiction</td>\n",
       "      <td>False</td>\n",
       "      <td>False</td>\n",
       "      <td>2025-02-21 06:58:02.337180</td>\n",
       "      <td>2025-02-21 06:58:02.337180</td>\n",
       "      <td>0.914286</td>\n",
       "    </tr>\n",
       "  </tbody>\n",
       "</table>\n",
       "</div>"
      ],
      "text/plain": [
       "      id nom_originel date_sortie_france  pays duree langue_principale format  \\\n",
       "112  113      Petites               None  None  None              None   None   \n",
       "90    91       Petite               None  None  None              None   None   \n",
       "\n",
       "    n_visa_exploitation    devis    genre  bonus_parite  femme_realisatrice  \\\n",
       "112              155500  1851787  fiction          True                True   \n",
       "90               156175  7430853  fiction         False               False   \n",
       "\n",
       "                    created_at                 updated_at  similarity_score  \n",
       "112 2025-02-21 06:58:02.337180 2025-02-21 06:58:02.337180          1.000000  \n",
       "90  2025-02-21 06:58:02.337180 2025-02-21 06:58:02.337180          0.914286  "
      ]
     },
     "execution_count": 16,
     "metadata": {},
     "output_type": "execute_result"
    }
   ],
   "source": [
    "find_matches('Petites', df_film, 'nom_originel')"
   ]
  }
 ],
 "metadata": {
  "kernelspec": {
   "display_name": ".venv",
   "language": "python",
   "name": "python3"
  },
  "language_info": {
   "codemirror_mode": {
    "name": "ipython",
    "version": 3
   },
   "file_extension": ".py",
   "mimetype": "text/x-python",
   "name": "python",
   "nbconvert_exporter": "python",
   "pygments_lexer": "ipython3",
   "version": "3.13.0"
  }
 },
 "nbformat": 4,
 "nbformat_minor": 2
}
