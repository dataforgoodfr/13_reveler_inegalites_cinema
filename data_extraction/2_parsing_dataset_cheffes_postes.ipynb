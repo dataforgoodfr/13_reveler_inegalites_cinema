{
 "cells": [
  {
   "cell_type": "code",
   "metadata": {},
   "source": [
    "!pip install mistralai tqdm psycopg2-binary sqlalchemy python-dotenv pandas termcolor openpyxl --quiet\n",
    "\n",
    "%load_ext autoreload\n",
    "%autoreload 2\n",
    "\n",
    "from database.getdata import query_data, get_connection, execute_query\n",
    "from database.matching import find_matches, compare_names\n",
    "\n",
    "import pandas as pd \n",
    "import os\n",
    "from mistralai import Mistral\n",
    "from dotenv import load_dotenv\n",
    "import tqdm\n",
    "\n",
    "import json\n",
    "load_dotenv()"
   ],
   "outputs": [],
   "execution_count": null
  },
  {
   "cell_type": "code",
   "metadata": {},
   "source": "",
   "outputs": [],
   "execution_count": null
  },
  {
   "cell_type": "markdown",
   "metadata": {},
   "source": [
    "## LOAD DATASET Dataset5050_Cheffes de poste 2023.xlsx - LISTE_FINALE_FILMS_RETENUS.xlsx\n"
   ]
  },
  {
   "cell_type": "code",
   "metadata": {},
   "source": [
    "# read csv file data/Dataset5050_Cheffes de poste 2023.xlsx - LISTE_FINALE_FILMS_RETENUS.csv\n",
    "\n",
    "df = pd.read_csv('../database/data/Dataset5050_Cheffes de poste 2023.xlsx - LISTE_FINALE_FILMS_RETENUS.csv')\n",
    "df"
   ],
   "outputs": [],
   "execution_count": null
  },
  {
   "metadata": {},
   "cell_type": "code",
   "source": "df['Femme_Real'].unique()\n",
   "outputs": [],
   "execution_count": null
  },
  {
   "metadata": {},
   "cell_type": "code",
   "source": "df['Bonus_Parité'].unique()",
   "outputs": [],
   "execution_count": null
  },
  {
   "metadata": {},
   "cell_type": "code",
   "source": [
    "df_cp = query_data('SELECT * FROM inegalites_cinema.cheffes_postes')\n",
    "df_cp\n"
   ],
   "outputs": [],
   "execution_count": null
  },
  {
   "metadata": {},
   "cell_type": "code",
   "source": [
    "df_film = query_data('SELECT * FROM inegalites_cinema.film')\n",
    "df_film"
   ],
   "outputs": [],
   "execution_count": null
  },
  {
   "metadata": {},
   "cell_type": "markdown",
   "source": "## J'AJOUTE LES FILMS QUI NE SONT PAS DANS LA BASE DE DONNEES"
  },
  {
   "metadata": {},
   "cell_type": "code",
   "source": [
    "for ii, row in tqdm.tqdm(df.iterrows(), total=df.shape[0]):\n",
    "    film_name = row['Titre']\n",
    "    visa = row['Visa'] if pd.notna(row['Visa']) else None\n",
    "    genre_film = row['Genre_Film'] if pd.notna(row['Genre_Film']) else None\n",
    "    bonus_parite = True if row['Bonus_Parité'] == 'x' else False\n",
    "    devis = row['Devis'] if pd.notna(row['Devis']) else None\n",
    "    femme_real = True if row['Femme_Real'] == 'Oui' else False\n",
    "\n",
    "    # find film in database\n",
    "    matches = find_matches(film_name, df_film, 'nom_originel')\n",
    "\n",
    "    if len(matches) == 0:\n",
    "        # add row to dataframe df_film\n",
    "        df_film = pd.concat([df_film, pd.DataFrame({'nom_originel': [film_name],\n",
    "                                                    'n_visa_exploitation': [visa],\n",
    "                                                    'genre': [genre_film],\n",
    "                                                    'bonus_parite': [bonus_parite],\n",
    "                                                    'devis': [devis],\n",
    "                                                    'femme_realisatrice': [femme_real]\n",
    "                                                    })], ignore_index=True)\n",
    "\n",
    "df_film.drop(columns='id').to_sql('film', get_connection(),\n",
    "                                 schema='inegalites_cinema', if_exists='append', index=False)"
   ],
   "outputs": [],
   "execution_count": null
  },
  {
   "metadata": {},
   "cell_type": "markdown",
   "source": "## J'AJOUTE LES CHEFFES DE POSTES QUI NE SONT PAS DANS LA BASE DE DONNEES"
  },
  {
   "metadata": {},
   "cell_type": "code",
   "source": [
    "for ii, row in tqdm.tqdm(df.iterrows(), total=df.shape[0]):\n",
    "    cp_nom = row['Nom']\n",
    "    cp_poste = row['Poste']\n",
    "    cp_genre = row['Genre']\n",
    "\n",
    "    matches = find_matches(cp_nom, df_cp, 'nom')\n",
    "\n",
    "    # if matche get first name\n",
    "    if len(matches) >= 1:\n",
    "        cp_nom = matches.iloc[0]['nom']\n",
    "\n",
    "    df_cp = pd.concat([df_cp, pd.DataFrame({\n",
    "                                            'nom': [cp_nom],\n",
    "                                            'type_de_poste': [cp_poste],\n",
    "                                            'genre': [cp_genre],\n",
    "                                            })], ignore_index=True)\n",
    "df_cp = df_cp.drop_duplicates()\n",
    "df_cp.drop(columns='id').to_sql('cheffes_postes', get_connection(),\n",
    "                                 schema='inegalites_cinema', if_exists='append', index=False)"
   ],
   "outputs": [],
   "execution_count": null
  },
  {
   "metadata": {},
   "cell_type": "code",
   "source": "",
   "outputs": [],
   "execution_count": null
  },
  {
   "metadata": {},
   "cell_type": "code",
   "source": [
    "# # join df with df_film and df_cp\n",
    "# df_merged = df.merge(df_film, left_on='Titre', right_on='nom_originel', how='left')\n",
    "# df_merged.rename(columns={'id': 'id_film'}, inplace=True)\n",
    "# df_merged = df_merged.merge(df_cp, left_on='Nom', right_on='nom', how='left')\n",
    "# df_merged.rename(columns={'id': 'id_cheffes_postes'}, inplace=True)\n",
    "#\n",
    "# df_merged[['id_film', 'id_cheffes_postes']].to_sql(\n",
    "#     'film_cheffes_postes',\n",
    "#     get_connection(),\n",
    "#     schema='inegalites_cinema',\n",
    "#     if_exists='replace',\n",
    "#     index=False\n",
    "# )"
   ],
   "outputs": [],
   "execution_count": null
  },
  {
   "metadata": {},
   "cell_type": "code",
   "source": "",
   "outputs": [],
   "execution_count": null
  }
 ],
 "metadata": {
  "kernelspec": {
   "display_name": ".venv",
   "language": "python",
   "name": "python3"
  },
  "language_info": {
   "codemirror_mode": {
    "name": "ipython",
    "version": 3
   },
   "file_extension": ".py",
   "mimetype": "text/x-python",
   "name": "python",
   "nbconvert_exporter": "python",
   "pygments_lexer": "ipython3",
   "version": "3.13.0"
  }
 },
 "nbformat": 4,
 "nbformat_minor": 2
}
