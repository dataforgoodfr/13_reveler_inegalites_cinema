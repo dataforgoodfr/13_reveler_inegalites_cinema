{
 "cells": [
  {
   "metadata": {},
   "cell_type": "code",
   "source": [
    "!pip install mistralai tqdm psycopg2-binary sqlalchemy python-dotenv pandas termcolor openpyxl --quiet\n",
    "\n",
    "%load_ext autoreload\n",
    "%autoreload 2\n",
    "\n",
    "from database.getdata import query_data, get_connection, execute_query\n",
    "from getdata import query_data, get_connection, execute_query\n",
    "import pandas as pd\n",
    "import os\n",
    "from mistralai import Mistral\n",
    "from dotenv import load_dotenv\n",
    "import tqdm\n",
    "\n",
    "import json\n",
    "\n",
    "load_dotenv()"
   ],
   "outputs": [],
   "execution_count": null
  },
  {
   "cell_type": "markdown",
   "metadata": {},
   "source": [
    "# CHARGEMENT DES DONNEES FESTIVAL"
   ]
  },
  {
   "cell_type": "markdown",
   "metadata": {},
   "source": [
    "## LOAD DATASET liste_festivals_renommes.csv\n",
    "\n",
    "UTILISATION DE MISTRAL AI POUR L'ENRICHISSMENT DES DONNEES"
   ]
  },
  {
   "cell_type": "code",
   "metadata": {},
   "source": [
    "filename = \"../database/data/liste_festivals_renommes.csv\"\n",
    "\n",
    "df_festivals = pd.read_csv(filename, sep=\";\")\n",
    "df_festivals.head()"
   ],
   "outputs": [],
   "execution_count": null
  },
  {
   "cell_type": "code",
   "metadata": {},
   "source": [
    "MISTRALAI_API_KEY = os.getenv(\"MISTRALAI_API_KEY\")\n",
    "model = \"mistral-large-latest\"\n",
    "client = Mistral(api_key=os.getenv(\"MISTRALAI_API_KEY\"))"
   ],
   "outputs": [],
   "execution_count": null
  },
  {
   "cell_type": "code",
   "metadata": {},
   "source": [
    "json_schema = \"\"\"{\n",
    "    \"$schema\": \"https://json-schema.org/draft/2020-12/schema\",\n",
    "    \"type\": \"object\",\n",
    "    \"properties\": {\n",
    "        \"festivals\": {\n",
    "            \"type\": \"array\",\n",
    "            \"description\": \"Array of film festival information\",\n",
    "            \"items\": {\n",
    "                \"type\": \"object\",\n",
    "                \"properties\": {\n",
    "                    \"nom\": {\n",
    "                        \"type\": \"string\",\n",
    "                        \"description\": \"Name of the festival\"\n",
    "                    },\n",
    "                    \"pays\": {\n",
    "                        \"type\": \"string\",\n",
    "                        \"description\": \"Country where the festival takes place\"\n",
    "                    },\n",
    "                    \"ville\": {\n",
    "                        \"type\": \"string\",\n",
    "                        \"description\": \"City where the festival takes place\"\n",
    "                    },\n",
    "                    \"nom_du_prix\": {\n",
    "                        \"type\": \"string\",\n",
    "                        \"description\": \"Name of the main prize awarded at the festival\"\n",
    "                    },\n",
    "                    \"premiere_edition\": {\n",
    "                        \"type\": \"integer\",\n",
    "                        \"description\": \"Year of the first edition\",\n",
    "                    },\n",
    "                    \"mois\": {\n",
    "                        \"type\": \"string\",\n",
    "                        \"description\": \"Month(s) when the festival takes place\"\n",
    "                    },\n",
    "                    \"genre\": {\n",
    "                        \"type\": \"string\",\n",
    "                        \"description\": \"Main film genre or category focus of the festival\"\n",
    "                    },\n",
    "                    \"description\": {\n",
    "                        \"type\": \"string\",\n",
    "                        \"description\": \"Brief description of the festival\"\n",
    "                    }\n",
    "                },\n",
    "                \"required\": [\n",
    "                    \"nom\",\n",
    "                    \"pays\",\n",
    "                    \"ville\",\n",
    "                    \"nom_du_prix\",\n",
    "                    \"premiere_edition\",\n",
    "                    \"mois\",\n",
    "                    \"genre\",\n",
    "                    \"description\"\n",
    "                ],\n",
    "                \"additionalProperties\": true\n",
    "            },\n",
    "            \"minItems\": 1\n",
    "        }\n",
    "    },\n",
    "    \"required\": [\"festivals\"],\n",
    "    \"additionalProperties\": false\n",
    "}\"\"\""
   ],
   "outputs": [],
   "execution_count": null
  },
  {
   "cell_type": "code",
   "metadata": {},
   "source": [
    "prompt = f\"\"\"\n",
    "You will receive a list of the most famous film festivals in the world.\n",
    "\n",
    "I want you to provide a json file with the maximum informations about each festival. \n",
    "The informations should include the name of the festival, the country, the city, the prize name, the first edition year, the month it usually happens, the genre, a short description  \n",
    "\n",
    "Do not limit yourself to the informations provided in the list. If you consider that other festivals are not listed, add it. \n",
    "The result must be in french and in the format of the schema below.\n",
    "\n",
    "<schema>\n",
    "{json_schema}\n",
    "</schema>\n",
    "\"\"\"\n",
    "\n",
    "prompt"
   ],
   "outputs": [],
   "execution_count": null
  },
  {
   "cell_type": "code",
   "metadata": {},
   "source": [
    "# chat_response = client.chat.complete(\n",
    "#     model=model,\n",
    "#     messages=[\n",
    "#         {\"role\": \"system\", \"content\": prompt},\n",
    "#         {\"role\": \"user\", \"content\": ','.join(df_festivals[\"festival_name\"].tolist())},\n",
    "#     ],\n",
    "#     response_format={\"type\": \"json_object\"},\n",
    "# )"
   ],
   "outputs": [],
   "execution_count": null
  },
  {
   "cell_type": "code",
   "metadata": {},
   "source": [
    "# import json\n",
    "# json_festivals = json.loads(chat_response.choices[0].message.content)"
   ],
   "outputs": [],
   "execution_count": null
  },
  {
   "cell_type": "code",
   "metadata": {},
   "source": [
    "# # LOAD THE JSON INTO A DATAFRAME\n",
    "# df_festivals_llm = pd.DataFrame(json_festivals['festivals'])\n",
    "# df_festivals_llm"
   ],
   "outputs": [],
   "execution_count": null
  },
  {
   "cell_type": "code",
   "metadata": {},
   "source": [
    "# df_festivals_llm.to_sql('festival', con=get_connection(), schema='inegalites_cinema', if_exists='append', index=False)"
   ],
   "outputs": [],
   "execution_count": null
  }
 ],
 "metadata": {
  "kernelspec": {
   "display_name": ".venv",
   "language": "python",
   "name": "python3"
  },
  "language_info": {
   "codemirror_mode": {
    "name": "ipython",
    "version": 3
   },
   "file_extension": ".py",
   "mimetype": "text/x-python",
   "name": "python",
   "nbconvert_exporter": "python",
   "pygments_lexer": "ipython3",
   "version": "3.13.0"
  }
 },
 "nbformat": 4,
 "nbformat_minor": 2
}
