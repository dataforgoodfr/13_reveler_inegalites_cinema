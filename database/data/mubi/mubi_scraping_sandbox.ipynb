{
 "cells": [
  {
   "cell_type": "markdown",
   "id": "db5f903b-cce4-4c3f-8245-a0257f260c4f",
   "metadata": {
    "scrolled": true
   },
   "source": [
    "# SCRAPING MUBI SANDBOX"
   ]
  },
  {
   "cell_type": "markdown",
   "id": "0a4723b6-9413-4df3-835a-6a3b003fe797",
   "metadata": {},
   "source": [
    "### Importing data"
   ]
  },
  {
   "cell_type": "markdown",
   "id": "3f4cb53b-6718-4bda-aecb-8ad81aaa20b7",
   "metadata": {},
   "source": [
    "### Importing films details from list of all festival editions films"
   ]
  },
  {
   "cell_type": "code",
   "execution_count": 6,
   "id": "30e8252e-7b75-455a-913f-a1f9a113b306",
   "metadata": {
    "scrolled": true
   },
   "outputs": [],
   "source": [
    "from database.data.mubi.mubi_all_film_awards_to_csv import MubiAllFilmAwardsToCsv\n",
    "scraper = MubiAllFilmAwardsToCsv(input_csv = \"festivals_all_films_simplified.csv\")\n",
    "await scraper.run(max_total_requests = 50)"
   ]
  },
  {
   "cell_type": "markdown",
   "id": "84fb8b5a-1dce-4deb-b90b-c1f5b4d0b17b",
   "metadata": {},
   "source": [
    "### Importing multiple festival editions films"
   ]
  },
  {
   "cell_type": "code",
   "execution_count": null,
   "id": "8f2da874-b69d-4af3-aa93-93fe0cd2200d",
   "metadata": {
    "scrolled": true
   },
   "outputs": [],
   "source": [
    "from database.data.mubi.mubi_all_festival_films_to_csv import MubiAllFestivalFilmsToCsv\n",
    "\n",
    "scraper = MubiAllFestivalFilmsToCsv(csv_file=\"festivals_all_films.csv\", festival=\"baftas\", start_year=2020, end_year=2021, max_pages=2)\n",
    "\n",
    "# TO RUN ONLY WHEN BELOW METHODS RUN CORRECTLY\n",
    "await scraper.run()"
   ]
  },
  {
   "cell_type": "markdown",
   "id": "596ee755-7bc1-45dc-8fcb-828b7a4afb3e",
   "metadata": {
    "scrolled": true
   },
   "source": [
    "### Scraping all festivals - testing"
   ]
  },
  {
   "cell_type": "code",
   "execution_count": 9,
   "id": "e8127fd8-906f-426a-b411-0ca2d6286430",
   "metadata": {
    "scrolled": true
   },
   "outputs": [],
   "source": [
    "from database.data.mubi.mubi_page_scraper import MubiPageScraper\n",
    "from database.data.scraping_browser import AsyncBrowserSession\n",
    "\n",
    "async def scrap_all_festivals(filters = MubiPageScraper().DEFAULT_ALL_FESTIVALS_FILTERS):\n",
    "    generated_url = MubiPageScraper().ALL_FESTIVALS_URL.format(**filters)\n",
    "\n",
    "    async with AsyncBrowserSession() as session:\n",
    "        html = await session.fetch_html(generated_url)\n",
    "    \n",
    "    return MubiPageScraper().extract_all_festivals(html)\n",
    "\n",
    "await scrap_all_festivals()"
   ]
  },
  {
   "cell_type": "markdown",
   "id": "769a17e2-f691-40e4-8165-8d090b374136",
   "metadata": {},
   "source": [
    "### Scraping a festival edition all films - testing"
   ]
  },
  {
   "cell_type": "code",
   "execution_count": 6,
   "id": "2acebaff-29f6-4439-8f3d-f8b7bd34cc5a",
   "metadata": {
    "scrolled": true
   },
   "outputs": [],
   "source": [
    "from database.data.mubi.mubi_page_scraper import MubiPageScraper\n",
    "from database.data.scraping_browser import AsyncBrowserSession\n",
    "\n",
    "async def scrap_festival_edition_all_films(filters = MubiPageScraper().DEFAULT_FESTIVAL_EDITION_ALL_FILMS_FILTERS):\n",
    "    generated_url = MubiPageScraper().FESTIVAL_EDITION_ALL_FILMS_URL.format(**filters)\n",
    "\n",
    "    async with AsyncBrowserSession() as session:\n",
    "        html = await session.fetch_html(generated_url)\n",
    "\n",
    "    return MubiPageScraper().extract_festival_edition_all_films(html)\n",
    "\n",
    "\n",
    "await scrap_festival_edition_all_films()"
   ]
  },
  {
   "cell_type": "markdown",
   "id": "59b0677e-cd5e-4287-afc7-5e098ae8250f",
   "metadata": {},
   "source": [
    "### Scraping a film's awards - testing"
   ]
  },
  {
   "cell_type": "code",
   "execution_count": 3,
   "id": "43235dcc-41df-4138-bf0c-66a08ee29aca",
   "metadata": {
    "scrolled": true
   },
   "outputs": [],
   "source": [
    "from database.data.mubi.mubi_page_scraper import MubiPageScraper\n",
    "from database.data.scraping_browser import AsyncBrowserSession\n",
    "\n",
    "async def scrap_film_all_awards(filters = MubiPageScraper().DEFAULT_FILM_ALL_AWARDS_FILTERS):\n",
    "    generated_url = MubiPageScraper().FILM_ALL_AWARDS_URL.format(**filters)\n",
    "\n",
    "    async with AsyncBrowserSession() as session:\n",
    "        html = await session.fetch_html(generated_url)\n",
    "    \n",
    "    return MubiPageScraper().extract_film_all_awards(html)\n",
    "\n",
    "await scrap_film_all_awards()"
   ]
  }
 ],
 "metadata": {
  "kernelspec": {
   "display_name": "Python 3 (ipykernel)",
   "language": "python",
   "name": "python3"
  },
  "language_info": {
   "codemirror_mode": {
    "name": "ipython",
    "version": 3
   },
   "file_extension": ".py",
   "mimetype": "text/x-python",
   "name": "python",
   "nbconvert_exporter": "python",
   "pygments_lexer": "ipython3",
   "version": "3.10.16"
  }
 },
 "nbformat": 4,
 "nbformat_minor": 5
}
