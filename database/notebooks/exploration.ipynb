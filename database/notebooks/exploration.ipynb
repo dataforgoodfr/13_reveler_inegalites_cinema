{
 "cells": [
  {
   "cell_type": "code",
   "execution_count": 3,
   "metadata": {},
   "outputs": [],
   "source": [
    "!pip install sqlalchemy pandas termcolor --quiet"
   ]
  },
  {
   "cell_type": "code",
   "execution_count": 4,
   "metadata": {},
   "outputs": [
    {
     "name": "stdout",
     "output_type": "stream",
     "text": [
      "\u001b[34mRunning query\u001b[0m\n",
      "\u001b[34mQuery run ended in 0.02 seconds\u001b[0m\n"
     ]
    },
    {
     "data": {
      "text/html": [
       "<div>\n",
       "<style scoped>\n",
       "    .dataframe tbody tr th:only-of-type {\n",
       "        vertical-align: middle;\n",
       "    }\n",
       "\n",
       "    .dataframe tbody tr th {\n",
       "        vertical-align: top;\n",
       "    }\n",
       "\n",
       "    .dataframe thead th {\n",
       "        text-align: right;\n",
       "    }\n",
       "</style>\n",
       "<table border=\"1\" class=\"dataframe\">\n",
       "  <thead>\n",
       "    <tr style=\"text-align: right;\">\n",
       "      <th></th>\n",
       "      <th>id</th>\n",
       "      <th>nom</th>\n",
       "      <th>pays</th>\n",
       "      <th>ville</th>\n",
       "      <th>nom_du_prix</th>\n",
       "      <th>premiere_edition</th>\n",
       "      <th>mois</th>\n",
       "      <th>genre</th>\n",
       "      <th>description</th>\n",
       "      <th>link</th>\n",
       "      <th>created_at</th>\n",
       "      <th>updated_at</th>\n",
       "    </tr>\n",
       "  </thead>\n",
       "  <tbody>\n",
       "    <tr>\n",
       "      <th>0</th>\n",
       "      <td>1</td>\n",
       "      <td>Festival de Cannes</td>\n",
       "      <td>France</td>\n",
       "      <td>Cannes</td>\n",
       "      <td>Palme d'Or</td>\n",
       "      <td>1946</td>\n",
       "      <td>Mai</td>\n",
       "      <td>Tous genres</td>\n",
       "      <td>Le Festival de Cannes est l'un des festivals d...</td>\n",
       "      <td>None</td>\n",
       "      <td>2025-02-14 12:38:13.382852</td>\n",
       "      <td>2025-02-14 12:38:13.382852</td>\n",
       "    </tr>\n",
       "  </tbody>\n",
       "</table>\n",
       "</div>"
      ],
      "text/plain": [
       "   id                 nom  ...                 created_at                 updated_at\n",
       "0   1  Festival de Cannes  ... 2025-02-14 12:38:13.382852 2025-02-14 12:38:13.382852\n",
       "\n",
       "[1 rows x 12 columns]"
      ]
     },
     "execution_count": 4,
     "metadata": {},
     "output_type": "execute_result"
    }
   ],
   "source": [
    "from getdata import query_data\n",
    "\n",
    "df_films = query_data('SELECT * FROM inegalites_cinema.festival limit 1')\n",
    "df_films.head()"
   ]
  },
  {
   "cell_type": "code",
   "execution_count": 5,
   "metadata": {},
   "outputs": [
    {
     "data": {
      "text/html": [
       "<div>\n",
       "<style scoped>\n",
       "    .dataframe tbody tr th:only-of-type {\n",
       "        vertical-align: middle;\n",
       "    }\n",
       "\n",
       "    .dataframe tbody tr th {\n",
       "        vertical-align: top;\n",
       "    }\n",
       "\n",
       "    .dataframe thead th {\n",
       "        text-align: right;\n",
       "    }\n",
       "</style>\n",
       "<table border=\"1\" class=\"dataframe\">\n",
       "  <thead>\n",
       "    <tr style=\"text-align: right;\">\n",
       "      <th></th>\n",
       "      <th>id</th>\n",
       "      <th>nom_originel</th>\n",
       "      <th>date_sortie_france</th>\n",
       "      <th>pays</th>\n",
       "      <th>duree</th>\n",
       "      <th>langue_principale</th>\n",
       "      <th>format</th>\n",
       "      <th>n_visa_exploitation</th>\n",
       "      <th>created_at</th>\n",
       "      <th>updated_at</th>\n",
       "    </tr>\n",
       "  </thead>\n",
       "  <tbody>\n",
       "  </tbody>\n",
       "</table>\n",
       "</div>"
      ],
      "text/plain": [
       "Empty DataFrame\n",
       "Columns: [id, nom_originel, date_sortie_france, pays, duree, langue_principale, format, n_visa_exploitation, created_at, updated_at]\n",
       "Index: []"
      ]
     },
     "execution_count": 5,
     "metadata": {},
     "output_type": "execute_result"
    }
   ],
   "source": [
    "from getdata import get_connection\n",
    "import pandas as pd\n",
    "\n",
    "conn = get_connection()\n",
    "df_films = pd.read_sql('SELECT * FROM inegalites_cinema.film limit 1', conn)\n",
    "df_films.head()"
   ]
  }
 ],
 "metadata": {
  "kernelspec": {
   "display_name": ".venv",
   "language": "python",
   "name": "python3"
  },
  "language_info": {
   "codemirror_mode": {
    "name": "ipython",
    "version": 3
   },
   "file_extension": ".py",
   "mimetype": "text/x-python",
   "name": "python",
   "nbconvert_exporter": "python",
   "pygments_lexer": "ipython3",
   "version": "3.12.3"
  }
 },
 "nbformat": 4,
 "nbformat_minor": 2
}
