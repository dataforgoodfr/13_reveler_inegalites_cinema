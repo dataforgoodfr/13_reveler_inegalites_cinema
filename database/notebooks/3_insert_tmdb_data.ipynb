{
 "cells": [
  {
   "cell_type": "code",
   "execution_count": null,
   "metadata": {},
   "outputs": [],
   "source": [
    "import json\n",
    "import requests\n",
    "import pandas as pd\n",
    "from http import HTTPStatus\n",
    "\n",
    "from database.getdata import query_data, get_connection, execute_query"
   ]
  },
  {
   "cell_type": "markdown",
   "metadata": {},
   "source": [
    "### Récupération des données de l'API TMDB"
   ]
  },
  {
   "cell_type": "code",
   "execution_count": null,
   "metadata": {},
   "outputs": [],
   "source": [
    "def get_last_updated_movies_id(api_key: str) -> int:\n",
    "    \"\"\"\n",
    "    Get the ID of the latest movie added to the TMDB database.\n",
    "    \"\"\"\n",
    "    start_date = \"2025-02-15\"\n",
    "    end_date = \"2025-02-21\"\n",
    "    n_pages = 1\n",
    "    url = f\"https://api.themoviedb.org/3/movie/changes?end_date={end_date}&page={n_pages}&start_date={start_date}\"\n",
    "    headers = {\n",
    "        \"accept\": \"application/json\",\n",
    "        \"Authorization\": f\"Bearer {api_key}\",\n",
    "    }\n",
    "\n",
    "    # Retry the request until it succeeds\n",
    "    retries = 0\n",
    "    while retries < 2:\n",
    "        try:\n",
    "            response = requests.get(url, headers=headers)\n",
    "            break\n",
    "        except Exception:\n",
    "            retries += 1\n",
    "\n",
    "    response_in_json = json.loads(response.text)\n",
    "\n",
    "    return response_in_json"
   ]
  },
  {
   "cell_type": "code",
   "execution_count": null,
   "metadata": {},
   "outputs": [],
   "source": [
    "def get_movies(api_key: str, origin_country: str) -> dict:\n",
    "    \"\"\"\n",
    "    Get ID of movies from a country.\n",
    "    \"\"\"\n",
    "    url = f\"https://api.themoviedb.org/3/discover/movie?include_adult=false&include_video=false&language=fr-FR&page=1&with_origin_country={origin_country}\"\n",
    "    headers = {\"accept\": \"application/json\", \"Authorization\": f\"Bearer {api_key}\"}\n",
    "\n",
    "    response = requests.get(url, headers=headers)\n",
    "    response_in_json = json.loads(response.text)\n",
    "\n",
    "    return response_in_json\n",
    "\n",
    "\n",
    "french_movies = get_movies(\"FR\")\n",
    "french_movies"
   ]
  },
  {
   "cell_type": "markdown",
   "metadata": {},
   "source": [
    "### Traitement des données récupérées"
   ]
  },
  {
   "cell_type": "code",
   "execution_count": null,
   "metadata": {},
   "outputs": [],
   "source": [
    "# Create a DataFrame from the JSON response\n",
    "df_movies = pd.DataFrame(french_movies[\"results\"])\n",
    "print(df_movies.shape[0])\n",
    "\n",
    "# Map column names to database schema\n",
    "columns_fr = {\n",
    "    \"title\": \"nom_originel\",\n",
    "    \"original_language\": \"langue_principale\",\n",
    "    \"release_date\": \"date_sortie_france\",\n",
    "    \"vote_average\": \"tmbd_note_moyenne\",\n",
    "    \"vote_count\": \"tmdb_total_votes\",\n",
    "    \"popularity\": \"tmdb_score\",\n",
    "    \"overview\": \"description\",\n",
    "    \"id\": \"tmdb_id\",\n",
    "}\n",
    "df_movies.rename(columns=columns_fr, inplace=True)\n",
    "\n",
    "# Drop columns that are not needed\n",
    "columns_to_drop = [\n",
    "    \"adult\",\n",
    "    \"backdrop_path\",\n",
    "    \"poster_path\",\n",
    "    \"video\",\n",
    "    \"original_title\",\n",
    "    \"genre_ids\",\n",
    "    # below is temporary drop until database schema if correctly updated\n",
    "    \"tmbd_note_moyenne\",\n",
    "    \"tmdb_total_votes\",\n",
    "    \"tmdb_score\",\n",
    "    \"description\",\n",
    "    \"tmdb_id\",\n",
    "]\n",
    "df_movies.drop(columns=columns_to_drop, inplace=True)\n",
    "df_movies.head()"
   ]
  },
  {
   "cell_type": "markdown",
   "metadata": {},
   "source": [
    "### Comparaison avec les données déjà en base"
   ]
  },
  {
   "cell_type": "code",
   "execution_count": null,
   "metadata": {},
   "outputs": [],
   "source": [
    "# Get the movies from the database\n",
    "df_db_movies = query_data(\"SELECT id, nom_originel FROM inegalites_cinema.film\")\n",
    "print(\"Number of rows in table inegalites_cinema.film: \" + str(df_db_movies.shape[0]))\n",
    "\n",
    "# Merge the two DataFrames to find the movies that are not already in the database\n",
    "df_merged = pd.merge(\n",
    "    df_movies, df_db_movies, how=\"left\", left_on=\"nom_originel\", right_on=\"nom_originel\"\n",
    ")\n",
    "\n",
    "# Get the ID of the latest movie added to the TMDB database\n",
    "start_id = int(df_db_movies.loc[:, \"id\"].max()) + 1\n",
    "# Get the movies that didn't match\n",
    "df_new_rows = df_merged[df_merged[\"id\"].isnull()]\n",
    "# Attribute an ID to the new rows\n",
    "df_new_rows[\"id\"] = range(start_id, start_id + len(df_new_rows))\n",
    "df_new_rows.head()"
   ]
  },
  {
   "cell_type": "markdown",
   "metadata": {},
   "source": [
    "### Insertion des données en base"
   ]
  },
  {
   "cell_type": "code",
   "execution_count": null,
   "metadata": {},
   "outputs": [],
   "source": [
    "df_new_rows.to_sql(\n",
    "    \"film\",\n",
    "    get_connection(),\n",
    "    schema=\"inegalites_cinema\",\n",
    "    if_exists=\"append\",\n",
    "    index=False,\n",
    ")"
   ]
  }
 ],
 "metadata": {
  "kernelspec": {
   "display_name": ".D4G-ric",
   "language": "python",
   "name": "python3"
  },
  "language_info": {
   "codemirror_mode": {
    "name": "ipython",
    "version": 3
   },
   "file_extension": ".py",
   "mimetype": "text/x-python",
   "name": "python",
   "nbconvert_exporter": "python",
   "pygments_lexer": "ipython3",
   "version": "3.11.1"
  }
 },
 "nbformat": 4,
 "nbformat_minor": 2
}
