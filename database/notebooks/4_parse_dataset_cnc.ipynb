{
 "cells": [
  {
   "cell_type": "code",
   "execution_count": null,
   "metadata": {},
   "outputs": [],
   "source": [
    "!pip install mistralai tqdm psycopg2-binary sqlalchemy python-dotenv pandas termcolor openpyxl black --quiet\n",
    "\n",
    "%load_ext autoreload\n",
    "%autoreload 2\n",
    "\n",
    "from database.matching import find_matches, compare_names\n",
    "from database.getdata import query_data, get_connection, execute_query\n",
    "import pandas as pd\n",
    "import os\n",
    "from mistralai import Mistral\n",
    "from dotenv import load_dotenv\n",
    "import tqdm\n",
    "\n",
    "import json\n",
    "\n",
    "load_dotenv()"
   ]
  },
  {
   "cell_type": "markdown",
   "metadata": {},
   "source": [
    "# CHARGEMENT DES DONNEES FILMS, REALISATEURS, PRODUCTEURS, DISTRIBUTEURS"
   ]
  },
  {
   "cell_type": "markdown",
   "metadata": {},
   "source": [
    "## LOAD DATASET Dataset5050_CNC Films Agréés 2003-2024.xlsx"
   ]
  },
  {
   "cell_type": "code",
   "execution_count": null,
   "metadata": {
    "ExecuteTime": {
     "end_time": "2025-02-20T22:04:03.983382Z",
     "start_time": "2025-02-20T22:04:03.451452Z"
    }
   },
   "outputs": [],
   "source": [
    "# use openpyxl to get list of spreadsheet names\n",
    "filename = \"../database/data/Dataset5050_CNC Films Agréés 2003-2024.xlsx\"\n",
    "xls = pd.ExcelFile(filename)\n",
    "sheet_names = xls.sheet_names\n",
    "print(f\"{len(sheet_names)} feuilles trouvés dans le fichier {filename}\")\n",
    "sheet_names = [sheet for sheet in sheet_names if \"20\" in sheet]\n",
    "sheet_names"
   ]
  },
  {
   "cell_type": "code",
   "execution_count": null,
   "metadata": {
    "ExecuteTime": {
     "end_time": "2025-02-20T22:04:04.580728Z",
     "start_time": "2025-02-20T22:04:04.137826Z"
    }
   },
   "outputs": [],
   "source": [
    "df = pd.read_excel(filename, sheet_name=sheet_names[0], skiprows=4)\n",
    "df.head()"
   ]
  },
  {
   "cell_type": "markdown",
   "metadata": {},
   "source": [
    "### REALISATEURS"
   ]
  },
  {
   "cell_type": "code",
   "execution_count": null,
   "metadata": {
    "ExecuteTime": {
     "end_time": "2025-02-20T22:04:13.304229Z",
     "start_time": "2025-02-20T22:04:04.633865Z"
    }
   },
   "outputs": [],
   "source": [
    "all_realisateurs = []\n",
    "\n",
    "for sheet in tqdm.tqdm(sheet_names, desc=\"Processing sheets\"):\n",
    "    df = pd.read_excel(filename, sheet_name=sheet, skiprows=4)\n",
    "\n",
    "    realisateurs = [\n",
    "        [name.strip() for name in tt.split(\"/\")]\n",
    "        for tt in df[\"REALISATEUR\"].fillna(\"\").tolist()\n",
    "    ]\n",
    "    realisateurs = [item for sublist in realisateurs for item in sublist]\n",
    "\n",
    "    all_realisateurs.extend(realisateurs)\n",
    "\n",
    "all_realisateurs = list(set(all_realisateurs))\n",
    "all_realisateurs.sort()\n",
    "all_realisateurs.remove(\"\")\n",
    "print(f\"{len(all_realisateurs)} réalisateurs trouvés dans le fichier {filename}\")"
   ]
  },
  {
   "cell_type": "code",
   "execution_count": null,
   "metadata": {
    "ExecuteTime": {
     "end_time": "2025-02-20T22:04:13.415748Z",
     "start_time": "2025-02-20T22:04:13.338685Z"
    }
   },
   "outputs": [],
   "source": [
    "df_realisateurs = query_data(\n",
    "    \"SELECT * FROM inegalites_cinema.cheffes_postes WHERE type_de_poste = 'Réalisation'\"\n",
    ")"
   ]
  },
  {
   "cell_type": "code",
   "execution_count": null,
   "metadata": {},
   "outputs": [],
   "source": [
    "find_matches(\"Ékoue\", df_realisateurs, \"nom\")"
   ]
  },
  {
   "cell_type": "code",
   "execution_count": null,
   "metadata": {
    "ExecuteTime": {
     "end_time": "2025-02-20T22:07:44.284677Z",
     "start_time": "2025-02-20T22:04:13.719601Z"
    }
   },
   "outputs": [],
   "source": [
    "realisateur_to_check = []\n",
    "realisateurs_matched = []  # ['GABARSKI Sam', 'GARBARSKI Sam', 'GAUD Jean-Paul']\n",
    "\n",
    "for ii, realisateur in tqdm.tqdm(\n",
    "    enumerate(all_realisateurs),\n",
    "    desc=\"Processing realisateurs\",\n",
    "    total=len(all_realisateurs),\n",
    "):\n",
    "    matches = find_matches(realisateur, df_realisateurs[ii:], \"nom\", threshold=0.90)\n",
    "    if len(matches) > 1:\n",
    "        print(f\"Realisateur: {realisateur}\")\n",
    "        print(matches)\n",
    "        print()\n",
    "        realisateur_to_check.append(realisateur)\n",
    "    elif len(matches) == 1:\n",
    "        realisateurs_matched.append(realisateur)\n",
    "    elif len(matches) == 0:\n",
    "        df_toadd = pd.DataFrame([{\"nom\": realisateur, \"type_de_poste\": \"Réalisation\"}])\n",
    "        df_toadd.to_sql(\n",
    "            \"cheffes_postes\",\n",
    "            con=get_connection(),\n",
    "            schema=\"inegalites_cinema\",\n",
    "            if_exists=\"append\",\n",
    "            index=False,\n",
    "        )\n",
    "        df_realisateurs = pd.concat([df_realisateurs, df_toadd], ignore_index=True)"
   ]
  },
  {
   "cell_type": "code",
   "execution_count": null,
   "metadata": {
    "ExecuteTime": {
     "end_time": "2025-02-20T22:08:02.932584Z",
     "start_time": "2025-02-20T22:08:02.895503Z"
    }
   },
   "outputs": [],
   "source": [
    "df_realisateurs = query_data(\n",
    "    \"SELECT id, nom FROM inegalites_cinema.cheffes_postes where type_de_poste='Réalisation'\"\n",
    ")"
   ]
  },
  {
   "cell_type": "code",
   "execution_count": null,
   "metadata": {
    "ExecuteTime": {
     "end_time": "2025-02-20T22:43:26.859643Z",
     "start_time": "2025-02-20T22:12:19.476460Z"
    }
   },
   "outputs": [],
   "source": [
    "# find duplicated entries\n",
    "\n",
    "ids_to_delete = []\n",
    "for realisateur in tqdm.tqdm(\n",
    "    df_realisateurs[\"nom\"].to_list(), desc=\"Processing realisateurs\"\n",
    "):\n",
    "    matches = find_matches(realisateur, df_realisateurs, \"nom\", threshold=0.9)\n",
    "    if len(matches) > 1:\n",
    "        ids = matches[\"id\"].tolist()\n",
    "        ids_to_delete.extend(ids[1:])\n",
    "\n",
    "    break\n",
    "ids_to_delete = list(set(ids_to_delete))"
   ]
  },
  {
   "cell_type": "code",
   "execution_count": null,
   "metadata": {
    "ExecuteTime": {
     "end_time": "2025-02-20T22:43:26.925769Z",
     "start_time": "2025-02-20T22:43:26.909476Z"
    }
   },
   "outputs": [],
   "source": [
    "with open(\"../database/realisateurs_matched.txt\", \"w\") as f:\n",
    "    for item in realisateurs_matched:\n",
    "        f.write(\"%s\\n\" % item)"
   ]
  },
  {
   "cell_type": "code",
   "execution_count": null,
   "metadata": {
    "ExecuteTime": {
     "end_time": "2025-02-20T22:43:27.005629Z",
     "start_time": "2025-02-20T22:43:26.990488Z"
    }
   },
   "outputs": [],
   "source": [
    "realisateur_to_check"
   ]
  },
  {
   "cell_type": "code",
   "execution_count": null,
   "metadata": {
    "ExecuteTime": {
     "end_time": "2025-02-20T22:45:05.756940Z",
     "start_time": "2025-02-20T22:45:01.676948Z"
    }
   },
   "outputs": [],
   "source": [
    "len(ids_to_delete)\n",
    "for ii in tqdm.tqdm(ids_to_delete):\n",
    "    execute_query(f\"DELETE FROM inegalites_cinema.cheffes_postes WHERE id = {ii}\")"
   ]
  },
  {
   "cell_type": "code",
   "execution_count": null,
   "metadata": {
    "ExecuteTime": {
     "end_time": "2025-02-20T22:45:08.214072Z",
     "start_time": "2025-02-20T22:45:08.168737Z"
    }
   },
   "outputs": [],
   "source": [
    "df_realisateurs = query_data(\n",
    "    \"SELECT id, type_de_poste, nom FROM inegalites_cinema.cheffes_postes where type_de_poste='Réalisation'\"\n",
    ")\n",
    "df_realisateurs.head()"
   ]
  },
  {
   "cell_type": "code",
   "execution_count": null,
   "metadata": {
    "ExecuteTime": {
     "end_time": "2025-02-20T22:45:10.533346Z",
     "start_time": "2025-02-20T22:45:09.996230Z"
    }
   },
   "outputs": [],
   "source": [
    "find_matches(\"José ALCALA\", df_realisateurs, \"nom\")"
   ]
  },
  {
   "cell_type": "markdown",
   "metadata": {},
   "source": [
    "### PROCESS FILMS DATASET"
   ]
  },
  {
   "cell_type": "code",
   "execution_count": null,
   "metadata": {},
   "outputs": [],
   "source": [
    "df_film = pd.read_excel(filename, sheet_name=sheet_names[0], skiprows=4)\n",
    "df_film.columns = [col.lower().replace(\" \", \"_\") for col in df_film.columns]\n",
    "df_film[\"realisateur\"] = [\n",
    "    [name.strip() for name in tt.split(\"/\")]\n",
    "    for tt in df_film[\"realisateur\"].fillna(\"\").tolist()\n",
    "]\n",
    "df_film = df_film.explode(\"realisateur\")\n",
    "df_film.columns = [\n",
    "    \"n_visa_exploitation\",\n",
    "    \"nom_originel\",\n",
    "    \"realisateur\",\n",
    "    \"producteurs\",\n",
    "    \"devis\",\n",
    "    \"genre\",\n",
    "    \"eof\",\n",
    "    \"rang\",\n",
    "    \"bonus_parite_\",\n",
    "    \"asr\",\n",
    "    \"payant\",\n",
    "    \"clair\",\n",
    "    \"sofica\",\n",
    "    \"credit_dimpot\",\n",
    "    \"aide_regionale\",\n",
    "    \"nationalite\",\n",
    "]\n",
    "df_film.head()"
   ]
  },
  {
   "cell_type": "code",
   "execution_count": null,
   "metadata": {},
   "outputs": [],
   "source": [
    "df_realisateurs = query_data(\n",
    "    \"select id, nom FROM inegalites_cinema.cheffes_postes where type_de_poste='Réalisation'\"\n",
    ")\n",
    "df_realisateurs.head(3)"
   ]
  },
  {
   "cell_type": "code",
   "execution_count": null,
   "metadata": {},
   "outputs": [],
   "source": [
    "columns_clean = df_film.columns.tolist()\n",
    "columns_clean.remove(\"realisateur\")\n",
    "\n",
    "df_film_clean = pd.DataFrame(\n",
    "    [],\n",
    "    columns=[\n",
    "        \"n_visa_exploitation\",\n",
    "        \"nom_originel\",\n",
    "        \"realisateur\",\n",
    "        \"producteurs\",\n",
    "        \"devis\",\n",
    "        \"genre\",\n",
    "        \"id_realisateur\",\n",
    "    ],\n",
    ")"
   ]
  },
  {
   "cell_type": "code",
   "execution_count": null,
   "metadata": {},
   "outputs": [],
   "source": [
    "realisateur_to_check = []\n",
    "for sheet in sheet_names:\n",
    "    df_film = pd.read_excel(filename, sheet_name=sheet, skiprows=4)\n",
    "    df_film.columns = [col.lower().replace(\" \", \"_\") for col in df_film.columns]\n",
    "    df_film[\"realisateur\"] = [\n",
    "        [name.strip() for name in tt.split(\"/\")]\n",
    "        for tt in df_film[\"realisateur\"].fillna(\"\").tolist()\n",
    "    ]\n",
    "    df_film = df_film.explode(\"realisateur\")\n",
    "    df_film.columns = [\n",
    "        \"n_visa_exploitation\",\n",
    "        \"nom_originel\",\n",
    "        \"realisateur\",\n",
    "        \"producteurs\",\n",
    "        \"devis\",\n",
    "        \"genre\",\n",
    "        \"eof\",\n",
    "        \"rang\",\n",
    "        \"bonus_parite_\",\n",
    "        \"asr\",\n",
    "        \"payant\",\n",
    "        \"clair\",\n",
    "        \"sofica\",\n",
    "        \"credit_dimpot\",\n",
    "        \"aide_regionale\",\n",
    "        \"nationalite\",\n",
    "    ]\n",
    "    df_film = df_film[\n",
    "        [\n",
    "            \"n_visa_exploitation\",\n",
    "            \"nom_originel\",\n",
    "            \"realisateur\",\n",
    "            \"producteurs\",\n",
    "            \"devis\",\n",
    "            \"genre\",\n",
    "        ]\n",
    "    ]\n",
    "\n",
    "    # iterate over df_film, match the realisateur with the database and add the id to the dataframe\n",
    "    for index, row in tqdm.tqdm(\n",
    "        df_film.iterrows(), total=len(df_film), desc=f\"Processing {sheet}\"\n",
    "    ):\n",
    "        realisateur = row[\"realisateur\"]\n",
    "        matches = find_matches(realisateur, df_realisateurs, \"nom\", threshold=0.9)\n",
    "        if len(matches) == 1:\n",
    "            df_toadd = pd.DataFrame([row])\n",
    "            df_toadd[\"id_realisateur\"] = matches.iloc[0][\"id\"]\n",
    "            df_film_clean = pd.concat([df_film_clean, df_toadd], ignore_index=True)\n",
    "        else:\n",
    "            print(f\"Realisateur: {realisateur}\")\n",
    "            print(matches)\n",
    "            print()\n",
    "            realisateur_to_check.append(realisateur)\n",
    "\n",
    "    break"
   ]
  }
 ],
 "metadata": {
  "kernelspec": {
   "display_name": ".venv",
   "language": "python",
   "name": "python3"
  },
  "language_info": {
   "codemirror_mode": {
    "name": "ipython",
    "version": 3
   },
   "file_extension": ".py",
   "mimetype": "text/x-python",
   "name": "python",
   "nbconvert_exporter": "python",
   "pygments_lexer": "ipython3",
   "version": "3.13.0"
  }
 },
 "nbformat": 4,
 "nbformat_minor": 2
}
