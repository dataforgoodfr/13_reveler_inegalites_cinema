{
 "cells": [
  {
   "cell_type": "code",
   "execution_count": 72,
   "metadata": {},
   "outputs": [
    {
     "data": {
      "text/plain": [
       "True"
      ]
     },
     "execution_count": 72,
     "metadata": {},
     "output_type": "execute_result"
    }
   ],
   "source": [
    "!pip install mistralai tqdm --quiet\n",
    "\n",
    "from getdata import query_data, get_connection, execute_query\n",
    "import pandas as pd \n",
    "import os\n",
    "from mistralai import Mistral\n",
    "from dotenv import load_dotenv\n",
    "import tqdm\n",
    "\n",
    "import json\n",
    "load_dotenv()"
   ]
  },
  {
   "cell_type": "code",
   "execution_count": 33,
   "metadata": {},
   "outputs": [
    {
     "name": "stdout",
     "output_type": "stream",
     "text": [
      "\u001b[34mRunning query\u001b[0m\n",
      "\u001b[34mQuery run ended in 0.02 seconds\u001b[0m\n"
     ]
    },
    {
     "data": {
      "text/html": [
       "<div>\n",
       "<style scoped>\n",
       "    .dataframe tbody tr th:only-of-type {\n",
       "        vertical-align: middle;\n",
       "    }\n",
       "\n",
       "    .dataframe tbody tr th {\n",
       "        vertical-align: top;\n",
       "    }\n",
       "\n",
       "    .dataframe thead th {\n",
       "        text-align: right;\n",
       "    }\n",
       "</style>\n",
       "<table border=\"1\" class=\"dataframe\">\n",
       "  <thead>\n",
       "    <tr style=\"text-align: right;\">\n",
       "      <th></th>\n",
       "      <th>id</th>\n",
       "      <th>nom</th>\n",
       "      <th>pays</th>\n",
       "      <th>ville</th>\n",
       "      <th>nom_du_prix</th>\n",
       "      <th>premiere_edition</th>\n",
       "      <th>mois</th>\n",
       "      <th>genre</th>\n",
       "      <th>description</th>\n",
       "      <th>link</th>\n",
       "      <th>created_at</th>\n",
       "      <th>updated_at</th>\n",
       "    </tr>\n",
       "  </thead>\n",
       "  <tbody>\n",
       "    <tr>\n",
       "      <th>0</th>\n",
       "      <td>1</td>\n",
       "      <td>Festival de Cannes</td>\n",
       "      <td>France</td>\n",
       "      <td>Cannes</td>\n",
       "      <td>Palme d'Or</td>\n",
       "      <td>1946</td>\n",
       "      <td>Mai</td>\n",
       "      <td>Tous genres</td>\n",
       "      <td>Le Festival de Cannes est l'un des festivals d...</td>\n",
       "      <td>None</td>\n",
       "      <td>2025-02-14 12:38:13.382852</td>\n",
       "      <td>2025-02-14 12:38:13.382852</td>\n",
       "    </tr>\n",
       "  </tbody>\n",
       "</table>\n",
       "</div>"
      ],
      "text/plain": [
       "   id                 nom    pays   ville nom_du_prix  premiere_edition mois  \\\n",
       "0   1  Festival de Cannes  France  Cannes  Palme d'Or              1946  Mai   \n",
       "\n",
       "         genre                                        description  link  \\\n",
       "0  Tous genres  Le Festival de Cannes est l'un des festivals d...  None   \n",
       "\n",
       "                  created_at                 updated_at  \n",
       "0 2025-02-14 12:38:13.382852 2025-02-14 12:38:13.382852  "
      ]
     },
     "execution_count": 33,
     "metadata": {},
     "output_type": "execute_result"
    }
   ],
   "source": [
    "query_data(\"SELECT * FROM inegalites_cinema.festival LIMIT 1\")"
   ]
  },
  {
   "cell_type": "markdown",
   "metadata": {},
   "source": [
    "# CHARGEMENT DES DONNEES FESTIVAL"
   ]
  },
  {
   "cell_type": "markdown",
   "metadata": {},
   "source": [
    "## LOAD DATASET liste_festivals_renommes.csv\n",
    "\n",
    "UTILISATION DE MISTRAL AI POUR L'ENRICHISSMENT DES DONNEES"
   ]
  },
  {
   "cell_type": "code",
   "execution_count": 34,
   "metadata": {},
   "outputs": [
    {
     "data": {
      "text/html": [
       "<div>\n",
       "<style scoped>\n",
       "    .dataframe tbody tr th:only-of-type {\n",
       "        vertical-align: middle;\n",
       "    }\n",
       "\n",
       "    .dataframe tbody tr th {\n",
       "        vertical-align: top;\n",
       "    }\n",
       "\n",
       "    .dataframe thead th {\n",
       "        text-align: right;\n",
       "    }\n",
       "</style>\n",
       "<table border=\"1\" class=\"dataframe\">\n",
       "  <thead>\n",
       "    <tr style=\"text-align: right;\">\n",
       "      <th></th>\n",
       "      <th>festival_name</th>\n",
       "      <th>festival_link</th>\n",
       "    </tr>\n",
       "  </thead>\n",
       "  <tbody>\n",
       "    <tr>\n",
       "      <th>0</th>\n",
       "      <td>FESTIVAL DE CANNES</td>\n",
       "      <td>https://mubi.com/fr/awards-and-festivals/canne...</td>\n",
       "    </tr>\n",
       "    <tr>\n",
       "      <th>1</th>\n",
       "      <td>VENICE FILM FESTIVAL</td>\n",
       "      <td>https://mubi.com/fr/awards-and-festivals/venic...</td>\n",
       "    </tr>\n",
       "    <tr>\n",
       "      <th>2</th>\n",
       "      <td>BERLIN INTERNATIONAL FILM FESTIVAL</td>\n",
       "      <td>https://mubi.com/fr/awards-and-festivals/berli...</td>\n",
       "    </tr>\n",
       "    <tr>\n",
       "      <th>3</th>\n",
       "      <td>ACADEMY AWARDS</td>\n",
       "      <td>https://mubi.com/fr/awards-and-festivals/oscar...</td>\n",
       "    </tr>\n",
       "    <tr>\n",
       "      <th>4</th>\n",
       "      <td>SUNDANCE FILM FESTIVAL</td>\n",
       "      <td>https://mubi.com/fr/awards-and-festivals/sunda...</td>\n",
       "    </tr>\n",
       "  </tbody>\n",
       "</table>\n",
       "</div>"
      ],
      "text/plain": [
       "                        festival_name  \\\n",
       "0                  FESTIVAL DE CANNES   \n",
       "1                VENICE FILM FESTIVAL   \n",
       "2  BERLIN INTERNATIONAL FILM FESTIVAL   \n",
       "3                      ACADEMY AWARDS   \n",
       "4              SUNDANCE FILM FESTIVAL   \n",
       "\n",
       "                                       festival_link  \n",
       "0  https://mubi.com/fr/awards-and-festivals/canne...  \n",
       "1  https://mubi.com/fr/awards-and-festivals/venic...  \n",
       "2  https://mubi.com/fr/awards-and-festivals/berli...  \n",
       "3  https://mubi.com/fr/awards-and-festivals/oscar...  \n",
       "4  https://mubi.com/fr/awards-and-festivals/sunda...  "
      ]
     },
     "execution_count": 34,
     "metadata": {},
     "output_type": "execute_result"
    }
   ],
   "source": [
    "filename = 'data/liste_festivals_renommes.csv' \n",
    "\n",
    "df_festivals = pd.read_csv(filename)\n",
    "df_festivals.head()"
   ]
  },
  {
   "cell_type": "code",
   "execution_count": 35,
   "metadata": {},
   "outputs": [],
   "source": [
    "\n",
    "MISTRALAI_API_KEY = os.getenv(\"MISTRALAI_API_KEY\")\n",
    "model = \"mistral-large-latest\"\n",
    "client = Mistral(api_key=os.getenv(\"MISTRALAI_API_KEY\"))"
   ]
  },
  {
   "cell_type": "code",
   "execution_count": 36,
   "metadata": {},
   "outputs": [],
   "source": [
    "json_schema = \"\"\"{\n",
    "    \"$schema\": \"https://json-schema.org/draft/2020-12/schema\",\n",
    "    \"type\": \"object\",\n",
    "    \"properties\": {\n",
    "        \"festivals\": {\n",
    "            \"type\": \"array\",\n",
    "            \"description\": \"Array of film festival information\",\n",
    "            \"items\": {\n",
    "                \"type\": \"object\",\n",
    "                \"properties\": {\n",
    "                    \"nom\": {\n",
    "                        \"type\": \"string\",\n",
    "                        \"description\": \"Name of the festival\"\n",
    "                    },\n",
    "                    \"pays\": {\n",
    "                        \"type\": \"string\",\n",
    "                        \"description\": \"Country where the festival takes place\"\n",
    "                    },\n",
    "                    \"ville\": {\n",
    "                        \"type\": \"string\",\n",
    "                        \"description\": \"City where the festival takes place\"\n",
    "                    },\n",
    "                    \"nom_du_prix\": {\n",
    "                        \"type\": \"string\",\n",
    "                        \"description\": \"Name of the main prize awarded at the festival\"\n",
    "                    },\n",
    "                    \"premiere_edition\": {\n",
    "                        \"type\": \"integer\",\n",
    "                        \"description\": \"Year of the first edition\",\n",
    "                    },\n",
    "                    \"mois\": {\n",
    "                        \"type\": \"string\",\n",
    "                        \"description\": \"Month(s) when the festival takes place\"\n",
    "                    },\n",
    "                    \"genre\": {\n",
    "                        \"type\": \"string\",\n",
    "                        \"description\": \"Main film genre or category focus of the festival\"\n",
    "                    },\n",
    "                    \"description\": {\n",
    "                        \"type\": \"string\",\n",
    "                        \"description\": \"Brief description of the festival\"\n",
    "                    }\n",
    "                },\n",
    "                \"required\": [\n",
    "                    \"nom\",\n",
    "                    \"pays\",\n",
    "                    \"ville\",\n",
    "                    \"nom_du_prix\",\n",
    "                    \"premiere_edition\",\n",
    "                    \"mois\",\n",
    "                    \"genre\",\n",
    "                    \"description\"\n",
    "                ],\n",
    "                \"additionalProperties\": true\n",
    "            },\n",
    "            \"minItems\": 1\n",
    "        }\n",
    "    },\n",
    "    \"required\": [\"festivals\"],\n",
    "    \"additionalProperties\": false\n",
    "}\"\"\""
   ]
  },
  {
   "cell_type": "code",
   "execution_count": 37,
   "metadata": {},
   "outputs": [
    {
     "data": {
      "text/plain": [
       "'\\nYou will receive a list of the most famous film festivals in the world.\\n\\nI want you to provide a json file with the maximum informations about each festival. \\nThe informations should include the name of the festival, the country, the city, the prize name, the first edition year, the month it usually happens, the genre, a short description  \\n\\nDo not limit yourself to the informations provided in the list. If you consider that other festivals are not listed, add it. \\nThe result must be in french and in the format of the schema below.\\n\\n<schema>\\n{\\n    \"$schema\": \"https://json-schema.org/draft/2020-12/schema\",\\n    \"type\": \"object\",\\n    \"properties\": {\\n        \"festivals\": {\\n            \"type\": \"array\",\\n            \"description\": \"Array of film festival information\",\\n            \"items\": {\\n                \"type\": \"object\",\\n                \"properties\": {\\n                    \"nom\": {\\n                        \"type\": \"string\",\\n                        \"description\": \"Name of the festival\"\\n                    },\\n                    \"pays\": {\\n                        \"type\": \"string\",\\n                        \"description\": \"Country where the festival takes place\"\\n                    },\\n                    \"ville\": {\\n                        \"type\": \"string\",\\n                        \"description\": \"City where the festival takes place\"\\n                    },\\n                    \"nom_du_prix\": {\\n                        \"type\": \"string\",\\n                        \"description\": \"Name of the main prize awarded at the festival\"\\n                    },\\n                    \"premiere_edition\": {\\n                        \"type\": \"integer\",\\n                        \"description\": \"Year of the first edition\",\\n                    },\\n                    \"mois\": {\\n                        \"type\": \"string\",\\n                        \"description\": \"Month(s) when the festival takes place\"\\n                    },\\n                    \"genre\": {\\n                        \"type\": \"string\",\\n                        \"description\": \"Main film genre or category focus of the festival\"\\n                    },\\n                    \"description\": {\\n                        \"type\": \"string\",\\n                        \"description\": \"Brief description of the festival\"\\n                    }\\n                },\\n                \"required\": [\\n                    \"nom\",\\n                    \"pays\",\\n                    \"ville\",\\n                    \"nom_du_prix\",\\n                    \"premiere_edition\",\\n                    \"mois\",\\n                    \"genre\",\\n                    \"description\"\\n                ],\\n                \"additionalProperties\": true\\n            },\\n            \"minItems\": 1\\n        }\\n    },\\n    \"required\": [\"festivals\"],\\n    \"additionalProperties\": false\\n}\\n</schema>\\n'"
      ]
     },
     "execution_count": 37,
     "metadata": {},
     "output_type": "execute_result"
    }
   ],
   "source": [
    "prompt = f\"\"\"\n",
    "You will receive a list of the most famous film festivals in the world.\n",
    "\n",
    "I want you to provide a json file with the maximum informations about each festival. \n",
    "The informations should include the name of the festival, the country, the city, the prize name, the first edition year, the month it usually happens, the genre, a short description  \n",
    "\n",
    "Do not limit yourself to the informations provided in the list. If you consider that other festivals are not listed, add it. \n",
    "The result must be in french and in the format of the schema below.\n",
    "\n",
    "<schema>\n",
    "{json_schema}\n",
    "</schema>\n",
    "\"\"\"\n",
    "\n",
    "prompt\n",
    "\n"
   ]
  },
  {
   "cell_type": "code",
   "execution_count": 38,
   "metadata": {},
   "outputs": [],
   "source": [
    "\n",
    "# chat_response = client.chat.complete(\n",
    "#     model=model,\n",
    "#     messages=[\n",
    "#         {\"role\": \"system\", \"content\": prompt},\n",
    "#         {\"role\": \"user\", \"content\": ','.join(df_festivals[\"festival_name\"].tolist())},\n",
    "#     ],\n",
    "#     response_format={\"type\": \"json_object\"},\n",
    "# )\n"
   ]
  },
  {
   "cell_type": "code",
   "execution_count": 39,
   "metadata": {},
   "outputs": [],
   "source": [
    "# import json\n",
    "# json_festivals = json.loads(chat_response.choices[0].message.content)"
   ]
  },
  {
   "cell_type": "code",
   "execution_count": 40,
   "metadata": {},
   "outputs": [],
   "source": [
    "# # LOAD THE JSON INTO A DATAFRAME\n",
    "# df_festivals_llm = pd.DataFrame(json_festivals['festivals'])\n",
    "# df_festivals_llm"
   ]
  },
  {
   "cell_type": "code",
   "execution_count": 41,
   "metadata": {},
   "outputs": [],
   "source": [
    "# df_festivals_llm.to_sql('festival', con=get_connection(), schema='inegalites_cinema', if_exists='append', index=False)"
   ]
  },
  {
   "cell_type": "markdown",
   "metadata": {},
   "source": [
    "# CHARGEMENT DES DONNEES FILMS"
   ]
  },
  {
   "cell_type": "markdown",
   "metadata": {},
   "source": [
    "## LOAD DATASET Dataset5050_CNC Films Agréés 2003-2024.xlsx"
   ]
  },
  {
   "cell_type": "code",
   "execution_count": 42,
   "metadata": {},
   "outputs": [
    {
     "name": "stdout",
     "output_type": "stream",
     "text": [
      "22 feuilles trouvés dans le fichier data/Dataset5050_CNC Films Agréés 2003-2024.xlsx\n"
     ]
    },
    {
     "data": {
      "text/plain": [
       "['2023',\n",
       " '2022',\n",
       " '2021',\n",
       " '2020',\n",
       " '2019',\n",
       " '2018',\n",
       " '2017',\n",
       " '2016',\n",
       " '2015',\n",
       " '2014',\n",
       " '2013',\n",
       " '2012',\n",
       " '2011',\n",
       " '2010',\n",
       " '2009',\n",
       " '2008',\n",
       " '2007',\n",
       " '2006',\n",
       " '2005',\n",
       " '2004',\n",
       " '2003']"
      ]
     },
     "execution_count": 42,
     "metadata": {},
     "output_type": "execute_result"
    }
   ],
   "source": [
    "# use openpyxl to get list of spreadsheet names \n",
    "filename = 'data/Dataset5050_CNC Films Agréés 2003-2024.xlsx'\n",
    "xls = pd.ExcelFile(filename)\n",
    "sheet_names = xls.sheet_names\n",
    "print(f\"{len(sheet_names)} feuilles trouvés dans le fichier {filename}\")\n",
    "sheet_names = [sheet for sheet in sheet_names if '20' in sheet]\n",
    "sheet_names"
   ]
  },
  {
   "cell_type": "code",
   "execution_count": null,
   "metadata": {},
   "outputs": [
    {
     "name": "stderr",
     "output_type": "stream",
     "text": [
      "Processing sheets: 100%|██████████| 21/21 [00:06<00:00,  3.00it/s]"
     ]
    },
    {
     "name": "stdout",
     "output_type": "stream",
     "text": [
      "3499 réalisateurs trouvés dans le fichier data/Dataset5050_CNC Films Agréés 2003-2024.xlsx\n"
     ]
    },
    {
     "name": "stderr",
     "output_type": "stream",
     "text": [
      "\n"
     ]
    }
   ],
   "source": [
    "all_realisateurs = []\n",
    "\n",
    "for sheet in tqdm.tqdm(sheet_names, desc=\"Processing sheets\"):\n",
    "    df = pd.read_excel(filename, sheet_name=sheet, skiprows=4)\n",
    "    \n",
    "    realisateurs = [[name.strip() for name in tt.split('/')] for tt in df['REALISATEUR'].fillna(\"\").tolist()]\n",
    "    realisateurs = [item for sublist in realisateurs for item in sublist]\n",
    "    \n",
    "    all_realisateurs.extend(realisateurs)\n",
    "    \n",
    "all_realisateurs = list(set(all_realisateurs))\n",
    "all_realisateurs.sort()\n",
    "\n",
    "print(f\"{len(all_realisateurs)} réalisateurs trouvés dans le fichier {filename}\")"
   ]
  },
  {
   "cell_type": "code",
   "execution_count": 44,
   "metadata": {},
   "outputs": [],
   "source": [
    "MISTRALAI_API_KEY = os.getenv(\"MISTRALAI_API_KEY\")\n",
    "model = \"mistral-large-latest\"\n",
    "client = Mistral(api_key=os.getenv(\"MISTRALAI_API_KEY\"))"
   ]
  },
  {
   "cell_type": "code",
   "execution_count": null,
   "metadata": {},
   "outputs": [],
   "source": [
    "json_schema = \"\"\"{\n",
    "    \"$schema\": \"https://json-schema.org/draft/2020-12/schema\",\n",
    "    \"type\": \"object\",\n",
    "    \"properties\": {\n",
    "        \"realisateurs\": {\n",
    "            \"type\": \"array\",\n",
    "            \"description\": \"Array of film festival directors\",\n",
    "            \"items\": {\n",
    "                \"type\": \"object\",\n",
    "                \"properties\": {\n",
    "                    \"nom\": {\n",
    "                        \"type\": \"string\",\n",
    "                        \"description\": \"Name of the director\"\n",
    "                    },\n",
    "                    \"pays\": {\n",
    "                        \"type\": \"string\",\n",
    "                        \"description\": \"Country of origin of the director\"\n",
    "                    },\n",
    "                    \"date_naissance\": {\n",
    "                        \"type\": \"date\",\n",
    "                        \"description\": \"Date of birth of the director\"\n",
    "                    },\n",
    "                    \"date_deces\": {\n",
    "                        \"type\": \"date\",\n",
    "                        \"description\": \"Date of death of the director\"\n",
    "                    },\n",
    "                    \"genre\": {\n",
    "                        \"type\": \"string\",\n",
    "                        \"description\": \"Gender of the director\"\n",
    "                    },\n",
    "                    \"film_genre\" : {\n",
    "                        \"type\": \"string\",\n",
    "                        \"description\": \"Main film genre of the director\"\n",
    "                    },\n",
    "                },\n",
    "                \"required\": [\n",
    "                    \"nom\",\n",
    "                    \"pays\",\n",
    "                    \"date_naissance\",\n",
    "                    \"genre\",\n",
    "                    \"film_genre\"\n",
    "                ],\n",
    "                \"additionalProperties\": true\n",
    "            },\n",
    "            \"minItems\": 1\n",
    "        }\n",
    "    },\n",
    "    \"required\": [\"realisateurs\"],\n",
    "    \"additionalProperties\": false\n",
    "}\"\"\""
   ]
  },
  {
   "cell_type": "code",
   "execution_count": 46,
   "metadata": {},
   "outputs": [],
   "source": [
    "prompt = f\"\"\"\n",
    "You will receive a list of well known movie directors.\n",
    "\n",
    "I want you to provide a json file with the maximum informations about each director. \n",
    "The informations should include the name of the director as indicated in the list, the country, the date of birth, the date of death if applicable, the gender and the main film genre.\n",
    "\n",
    "If you consider that other directors are not listed, add them.\n",
    "The result must be in french and in the format of the schema below.\n",
    "\n",
    "<schema>\n",
    "{json_schema}\n",
    "</schema>\n",
    "\"\"\""
   ]
  },
  {
   "cell_type": "code",
   "execution_count": 55,
   "metadata": {},
   "outputs": [],
   "source": [
    "def batch_process_realisateurs(list_realisateurs):\n",
    "        \n",
    "    chat_response = client.chat.complete(\n",
    "        model=model,\n",
    "        messages=[\n",
    "            {\"role\": \"system\", \"content\": prompt},\n",
    "            {\"role\": \"user\", \"content\": ','.join(list_realisateurs)},\n",
    "        ],\n",
    "        response_format={\"type\": \"json_object\"},\n",
    "    )\n",
    "\n",
    "    json_realisateurs = json.loads(chat_response.choices[0].message.content)\n",
    "    return json_realisateurs['realisateurs']\n"
   ]
  },
  {
   "cell_type": "code",
   "execution_count": null,
   "metadata": {},
   "outputs": [
    {
     "name": "stderr",
     "output_type": "stream",
     "text": [
      "Processing directors in batches:   0%|          | 0/35 [00:00<?, ?it/s]"
     ]
    },
    {
     "name": "stderr",
     "output_type": "stream",
     "text": [
      "Processing directors in batches: 100%|██████████| 35/35 [1:54:39<00:00, 196.57s/it]  \n"
     ]
    }
   ],
   "source": [
    "all_json_realisateurs = []\n",
    "\n",
    "# # create loop to iterate over the list of directors in batches of 100\n",
    "# for i in tqdm.tqdm(range(0, len(all_realisateurs), 100), desc=\"Processing directors in batches\"):\n",
    "#     all_json_realisateurs.extend(batch_process_realisateurs(all_realisateurs[i:i+100]))"
   ]
  },
  {
   "cell_type": "code",
   "execution_count": 98,
   "metadata": {},
   "outputs": [],
   "source": [
    "df_realisateurs = pd.DataFrame(all_json_realisateurs)\n",
    "\n",
    "df_realisateurs['genre'] = df_realisateurs['genre'].map({\n",
    "    'Masculin': 'Homme',\n",
    "    'Féminin': 'Femme',\n",
    "    'Homme': 'Homme',\n",
    "    'Femme': 'Femme',\n",
    "    'M': 'Homme',\n",
    "    'F': 'Femme',\n",
    "    'Inconnu': 'Inconnu'\n",
    "})\n",
    "\n",
    "df_realisateurs['date_naissance'] = pd.to_datetime(df_realisateurs['date_naissance'], errors='coerce')\n",
    "df_realisateurs['date_deces'] = pd.to_datetime(df_realisateurs['date_deces'], errors='coerce')\n",
    "df_realisateurs.to_csv('data/realisateurs.csv', index=False)"
   ]
  },
  {
   "cell_type": "code",
   "execution_count": 99,
   "metadata": {},
   "outputs": [
    {
     "data": {
      "text/html": [
       "<div>\n",
       "<style scoped>\n",
       "    .dataframe tbody tr th:only-of-type {\n",
       "        vertical-align: middle;\n",
       "    }\n",
       "\n",
       "    .dataframe tbody tr th {\n",
       "        vertical-align: top;\n",
       "    }\n",
       "\n",
       "    .dataframe thead th {\n",
       "        text-align: right;\n",
       "    }\n",
       "</style>\n",
       "<table border=\"1\" class=\"dataframe\">\n",
       "  <thead>\n",
       "    <tr style=\"text-align: right;\">\n",
       "      <th></th>\n",
       "      <th>nom</th>\n",
       "      <th>pays</th>\n",
       "      <th>date_naissance</th>\n",
       "      <th>genre</th>\n",
       "      <th>film_genre</th>\n",
       "      <th>date_deces</th>\n",
       "    </tr>\n",
       "  </thead>\n",
       "  <tbody>\n",
       "    <tr>\n",
       "      <th>0</th>\n",
       "      <td>ABADI Sou</td>\n",
       "      <td>Maroc</td>\n",
       "      <td>1960-01-01</td>\n",
       "      <td>Homme</td>\n",
       "      <td>Drame</td>\n",
       "      <td>NaT</td>\n",
       "    </tr>\n",
       "    <tr>\n",
       "      <th>1</th>\n",
       "      <td>ABASSI Ali</td>\n",
       "      <td>Tunisie</td>\n",
       "      <td>1965-01-01</td>\n",
       "      <td>Homme</td>\n",
       "      <td>Documentaire</td>\n",
       "      <td>NaT</td>\n",
       "    </tr>\n",
       "    <tr>\n",
       "      <th>2</th>\n",
       "      <td>ABATUROV Alexander</td>\n",
       "      <td>Russie</td>\n",
       "      <td>1955-01-01</td>\n",
       "      <td>Homme</td>\n",
       "      <td>Drame</td>\n",
       "      <td>NaT</td>\n",
       "    </tr>\n",
       "    <tr>\n",
       "      <th>3</th>\n",
       "      <td>ABBASS Hiam</td>\n",
       "      <td>Liban</td>\n",
       "      <td>1960-01-01</td>\n",
       "      <td>Femme</td>\n",
       "      <td>Drame</td>\n",
       "      <td>NaT</td>\n",
       "    </tr>\n",
       "    <tr>\n",
       "      <th>4</th>\n",
       "      <td>ABBOU Karim</td>\n",
       "      <td>France</td>\n",
       "      <td>1970-01-01</td>\n",
       "      <td>Homme</td>\n",
       "      <td>Comédie</td>\n",
       "      <td>NaT</td>\n",
       "    </tr>\n",
       "    <tr>\n",
       "      <th>...</th>\n",
       "      <td>...</td>\n",
       "      <td>...</td>\n",
       "      <td>...</td>\n",
       "      <td>...</td>\n",
       "      <td>...</td>\n",
       "      <td>...</td>\n",
       "    </tr>\n",
       "    <tr>\n",
       "      <th>3929</th>\n",
       "      <td>ZOR Eitan</td>\n",
       "      <td>Israël</td>\n",
       "      <td>1975-01-01</td>\n",
       "      <td>Homme</td>\n",
       "      <td>Drame</td>\n",
       "      <td>NaT</td>\n",
       "    </tr>\n",
       "    <tr>\n",
       "      <th>3930</th>\n",
       "      <td>ZOUHANI Hakim</td>\n",
       "      <td>France</td>\n",
       "      <td>1981-01-01</td>\n",
       "      <td>Homme</td>\n",
       "      <td>Comédie</td>\n",
       "      <td>NaT</td>\n",
       "    </tr>\n",
       "    <tr>\n",
       "      <th>3931</th>\n",
       "      <td>ZUCHUAT Olivier</td>\n",
       "      <td>France</td>\n",
       "      <td>1975-01-01</td>\n",
       "      <td>Homme</td>\n",
       "      <td>Documentaire</td>\n",
       "      <td>NaT</td>\n",
       "    </tr>\n",
       "    <tr>\n",
       "      <th>3932</th>\n",
       "      <td>ZULAWSKI Andrzej</td>\n",
       "      <td>Pologne</td>\n",
       "      <td>1940-11-22</td>\n",
       "      <td>Homme</td>\n",
       "      <td>Drame</td>\n",
       "      <td>2016-02-17</td>\n",
       "    </tr>\n",
       "    <tr>\n",
       "      <th>3933</th>\n",
       "      <td>ZVIAGUINTSEV Andreï</td>\n",
       "      <td>Russie</td>\n",
       "      <td>1964-02-22</td>\n",
       "      <td>Homme</td>\n",
       "      <td>Drame</td>\n",
       "      <td>NaT</td>\n",
       "    </tr>\n",
       "  </tbody>\n",
       "</table>\n",
       "<p>3934 rows × 6 columns</p>\n",
       "</div>"
      ],
      "text/plain": [
       "                      nom     pays date_naissance  genre    film_genre  \\\n",
       "0               ABADI Sou    Maroc     1960-01-01  Homme         Drame   \n",
       "1              ABASSI Ali  Tunisie     1965-01-01  Homme  Documentaire   \n",
       "2      ABATUROV Alexander   Russie     1955-01-01  Homme         Drame   \n",
       "3             ABBASS Hiam    Liban     1960-01-01  Femme         Drame   \n",
       "4             ABBOU Karim   France     1970-01-01  Homme       Comédie   \n",
       "...                   ...      ...            ...    ...           ...   \n",
       "3929            ZOR Eitan   Israël     1975-01-01  Homme         Drame   \n",
       "3930        ZOUHANI Hakim   France     1981-01-01  Homme       Comédie   \n",
       "3931      ZUCHUAT Olivier   France     1975-01-01  Homme  Documentaire   \n",
       "3932     ZULAWSKI Andrzej  Pologne     1940-11-22  Homme         Drame   \n",
       "3933  ZVIAGUINTSEV Andreï   Russie     1964-02-22  Homme         Drame   \n",
       "\n",
       "     date_deces  \n",
       "0           NaT  \n",
       "1           NaT  \n",
       "2           NaT  \n",
       "3           NaT  \n",
       "4           NaT  \n",
       "...         ...  \n",
       "3929        NaT  \n",
       "3930        NaT  \n",
       "3931        NaT  \n",
       "3932 2016-02-17  \n",
       "3933        NaT  \n",
       "\n",
       "[3934 rows x 6 columns]"
      ]
     },
     "execution_count": 99,
     "metadata": {},
     "output_type": "execute_result"
    }
   ],
   "source": [
    "df_realisateurs"
   ]
  },
  {
   "cell_type": "code",
   "execution_count": 100,
   "metadata": {},
   "outputs": [
    {
     "data": {
      "text/plain": [
       "genre\n",
       "Homme      3034\n",
       "Femme       876\n",
       "Inconnu      24\n",
       "Name: count, dtype: int64"
      ]
     },
     "execution_count": 100,
     "metadata": {},
     "output_type": "execute_result"
    }
   ],
   "source": [
    "df_realisateurs.genre.value_counts()"
   ]
  },
  {
   "cell_type": "code",
   "execution_count": 101,
   "metadata": {},
   "outputs": [],
   "source": [
    "# array(['Masculin', 'Féminin', 'Homme', 'Femme', 'M', 'F', 'Inconnu'],\n",
    "#       dtype=object)\n",
    "# remap genre to Homme, Femme, Inconnu\n",
    "df_realisateurs['genre'] = df_realisateurs['genre'].map({\n",
    "    'Masculin': 'Homme',\n",
    "    'Féminin': 'Femme',\n",
    "    'Homme': 'Homme',\n",
    "    'Femme': 'Femme',\n",
    "    'M': 'Homme',\n",
    "    'F': 'Femme',\n",
    "    'Inconnu': 'Inconnu'\n",
    "})\n",
    "    "
   ]
  },
  {
   "cell_type": "code",
   "execution_count": null,
   "metadata": {},
   "outputs": [
    {
     "data": {
      "text/plain": [
       "934"
      ]
     },
     "execution_count": 102,
     "metadata": {},
     "output_type": "execute_result"
    }
   ],
   "source": [
    "# df_realisateurs.to_sql('realisateur', con=get_connection(), schema='inegalites_cinema', if_exists='append', index=False)"
   ]
  },
  {
   "cell_type": "code",
   "execution_count": 49,
   "metadata": {},
   "outputs": [],
   "source": [
    "# Read both sheets from the Excel file\n",
    "df_films = pd.read_excel('data/Dataset5050_César 1976-2024.xlsx', sheet_name='Films')\n",
    "df_personnes = pd.read_excel('data/Dataset5050_César 1976-2024.xlsx', sheet_name='Personnes')\n"
   ]
  },
  {
   "cell_type": "markdown",
   "metadata": {},
   "source": [
    "### PROCESS FILMS DATASET"
   ]
  },
  {
   "cell_type": "code",
   "execution_count": 50,
   "metadata": {},
   "outputs": [
    {
     "data": {
      "text/html": [
       "<div>\n",
       "<style scoped>\n",
       "    .dataframe tbody tr th:only-of-type {\n",
       "        vertical-align: middle;\n",
       "    }\n",
       "\n",
       "    .dataframe tbody tr th {\n",
       "        vertical-align: top;\n",
       "    }\n",
       "\n",
       "    .dataframe thead th {\n",
       "        text-align: right;\n",
       "    }\n",
       "</style>\n",
       "<table border=\"1\" class=\"dataframe\">\n",
       "  <thead>\n",
       "    <tr style=\"text-align: right;\">\n",
       "      <th></th>\n",
       "      <th>Année</th>\n",
       "      <th>Méta</th>\n",
       "      <th>Catégorie</th>\n",
       "      <th>Nommés</th>\n",
       "      <th>Films</th>\n",
       "      <th>Gagnant</th>\n",
       "      <th>Duo</th>\n",
       "      <th>Sexe</th>\n",
       "      <th>Producteurs</th>\n",
       "      <th>Sexe_Prod</th>\n",
       "    </tr>\n",
       "  </thead>\n",
       "  <tbody>\n",
       "    <tr>\n",
       "      <th>0</th>\n",
       "      <td>1976</td>\n",
       "      <td>Acteurs/actrices</td>\n",
       "      <td>Meilleure Actrice</td>\n",
       "      <td>Romy Schneider</td>\n",
       "      <td>L'IMPORTANT C'EST D'AIMER</td>\n",
       "      <td>G</td>\n",
       "      <td>NaN</td>\n",
       "      <td>F</td>\n",
       "      <td>NaN</td>\n",
       "      <td>NaN</td>\n",
       "    </tr>\n",
       "    <tr>\n",
       "      <th>1</th>\n",
       "      <td>1976</td>\n",
       "      <td>Acteurs/actrices</td>\n",
       "      <td>Meilleure Actrice</td>\n",
       "      <td>Isabelle Adjani</td>\n",
       "      <td>L'HISTOIRE D'ADÈLE H</td>\n",
       "      <td>NaN</td>\n",
       "      <td>NaN</td>\n",
       "      <td>F</td>\n",
       "      <td>NaN</td>\n",
       "      <td>NaN</td>\n",
       "    </tr>\n",
       "    <tr>\n",
       "      <th>2</th>\n",
       "      <td>1976</td>\n",
       "      <td>Acteurs/actrices</td>\n",
       "      <td>Meilleure Actrice</td>\n",
       "      <td>Catherine Deneuve</td>\n",
       "      <td>LE SAUVAGE</td>\n",
       "      <td>NaN</td>\n",
       "      <td>NaN</td>\n",
       "      <td>F</td>\n",
       "      <td>NaN</td>\n",
       "      <td>NaN</td>\n",
       "    </tr>\n",
       "    <tr>\n",
       "      <th>3</th>\n",
       "      <td>1976</td>\n",
       "      <td>Acteurs/actrices</td>\n",
       "      <td>Meilleure Actrice</td>\n",
       "      <td>Delphine Seyrig</td>\n",
       "      <td>INDIA SONG</td>\n",
       "      <td>NaN</td>\n",
       "      <td>NaN</td>\n",
       "      <td>F</td>\n",
       "      <td>NaN</td>\n",
       "      <td>NaN</td>\n",
       "    </tr>\n",
       "    <tr>\n",
       "      <th>4</th>\n",
       "      <td>1976</td>\n",
       "      <td>Acteurs/actrices</td>\n",
       "      <td>Meilleur Acteur</td>\n",
       "      <td>Philippe Noiret</td>\n",
       "      <td>LE VIEUX FUSIL</td>\n",
       "      <td>G</td>\n",
       "      <td>NaN</td>\n",
       "      <td>H</td>\n",
       "      <td>NaN</td>\n",
       "      <td>NaN</td>\n",
       "    </tr>\n",
       "  </tbody>\n",
       "</table>\n",
       "</div>"
      ],
      "text/plain": [
       "   Année              Méta          Catégorie             Nommés  \\\n",
       "0   1976  Acteurs/actrices  Meilleure Actrice     Romy Schneider   \n",
       "1   1976  Acteurs/actrices  Meilleure Actrice    Isabelle Adjani   \n",
       "2   1976  Acteurs/actrices  Meilleure Actrice  Catherine Deneuve   \n",
       "3   1976  Acteurs/actrices  Meilleure Actrice    Delphine Seyrig   \n",
       "4   1976  Acteurs/actrices    Meilleur Acteur    Philippe Noiret   \n",
       "\n",
       "                       Films Gagnant  Duo Sexe Producteurs Sexe_Prod  \n",
       "0  L'IMPORTANT C'EST D'AIMER       G  NaN    F         NaN       NaN  \n",
       "1       L'HISTOIRE D'ADÈLE H     NaN  NaN    F         NaN       NaN  \n",
       "2                 LE SAUVAGE     NaN  NaN    F         NaN       NaN  \n",
       "3                 INDIA SONG     NaN  NaN    F         NaN       NaN  \n",
       "4             LE VIEUX FUSIL       G  NaN    H         NaN       NaN  "
      ]
     },
     "execution_count": 50,
     "metadata": {},
     "output_type": "execute_result"
    }
   ],
   "source": [
    "df_films.head()"
   ]
  },
  {
   "cell_type": "code",
   "execution_count": 51,
   "metadata": {},
   "outputs": [
    {
     "data": {
      "text/html": [
       "<div>\n",
       "<style scoped>\n",
       "    .dataframe tbody tr th:only-of-type {\n",
       "        vertical-align: middle;\n",
       "    }\n",
       "\n",
       "    .dataframe tbody tr th {\n",
       "        vertical-align: top;\n",
       "    }\n",
       "\n",
       "    .dataframe thead th {\n",
       "        text-align: right;\n",
       "    }\n",
       "</style>\n",
       "<table border=\"1\" class=\"dataframe\">\n",
       "  <thead>\n",
       "    <tr style=\"text-align: right;\">\n",
       "      <th></th>\n",
       "      <th>Année</th>\n",
       "      <th>Méta</th>\n",
       "      <th>Catégorie</th>\n",
       "      <th>Nommés</th>\n",
       "      <th>Prénoms</th>\n",
       "      <th>Noms</th>\n",
       "      <th>Films</th>\n",
       "      <th>Gagnant</th>\n",
       "      <th>Duo</th>\n",
       "      <th>Producteurs</th>\n",
       "      <th>Sexe</th>\n",
       "      <th>Naissance</th>\n",
       "    </tr>\n",
       "  </thead>\n",
       "  <tbody>\n",
       "    <tr>\n",
       "      <th>0</th>\n",
       "      <td>1990</td>\n",
       "      <td>Technique</td>\n",
       "      <td>Meilleurs Décors</td>\n",
       "      <td>Michèle Abbe</td>\n",
       "      <td>Michèle</td>\n",
       "      <td>Abbe</td>\n",
       "      <td>BUNKER PALACE HÔTEL</td>\n",
       "      <td>NaN</td>\n",
       "      <td>NaN</td>\n",
       "      <td>NaN</td>\n",
       "      <td>F</td>\n",
       "      <td>0</td>\n",
       "    </tr>\n",
       "    <tr>\n",
       "      <th>1</th>\n",
       "      <td>1996</td>\n",
       "      <td>Technique</td>\n",
       "      <td>Meilleurs Décors</td>\n",
       "      <td>Michèle Abbe</td>\n",
       "      <td>Michèle</td>\n",
       "      <td>Abbe</td>\n",
       "      <td>MADAME BUTTERFLY</td>\n",
       "      <td>NaN</td>\n",
       "      <td>NaN</td>\n",
       "      <td>NaN</td>\n",
       "      <td>F</td>\n",
       "      <td>0</td>\n",
       "    </tr>\n",
       "    <tr>\n",
       "      <th>2</th>\n",
       "      <td>2022</td>\n",
       "      <td>Films</td>\n",
       "      <td>Meilleur Film Documentaire (CM)</td>\n",
       "      <td>Giacomo Abbruzzese</td>\n",
       "      <td>Giacomo</td>\n",
       "      <td>Abbruzzese</td>\n",
       "      <td>AMERICA</td>\n",
       "      <td>NaN</td>\n",
       "      <td>NaN</td>\n",
       "      <td>NaN</td>\n",
       "      <td>H</td>\n",
       "      <td>1983</td>\n",
       "    </tr>\n",
       "    <tr>\n",
       "      <th>3</th>\n",
       "      <td>2009</td>\n",
       "      <td>Scénariste</td>\n",
       "      <td>Meilleur Scénario Original</td>\n",
       "      <td>Marc Abdelnour</td>\n",
       "      <td>Marc</td>\n",
       "      <td>Abdelnour</td>\n",
       "      <td>SÉRAPHINE</td>\n",
       "      <td>G</td>\n",
       "      <td>D</td>\n",
       "      <td>NaN</td>\n",
       "      <td>H</td>\n",
       "      <td>0</td>\n",
       "    </tr>\n",
       "    <tr>\n",
       "      <th>4</th>\n",
       "      <td>1999</td>\n",
       "      <td>Acteurs/actrices</td>\n",
       "      <td>Meilleur Espoir Masculin</td>\n",
       "      <td>Lionel Abelanski</td>\n",
       "      <td>Lionel</td>\n",
       "      <td>Abelanski</td>\n",
       "      <td>TRAIN DE VIE</td>\n",
       "      <td>NaN</td>\n",
       "      <td>NaN</td>\n",
       "      <td>NaN</td>\n",
       "      <td>H</td>\n",
       "      <td>1964</td>\n",
       "    </tr>\n",
       "  </tbody>\n",
       "</table>\n",
       "</div>"
      ],
      "text/plain": [
       "   Année              Méta                        Catégorie  \\\n",
       "0   1990         Technique                 Meilleurs Décors   \n",
       "1   1996         Technique                 Meilleurs Décors   \n",
       "2   2022             Films  Meilleur Film Documentaire (CM)   \n",
       "3   2009        Scénariste       Meilleur Scénario Original   \n",
       "4   1999  Acteurs/actrices         Meilleur Espoir Masculin   \n",
       "\n",
       "               Nommés  Prénoms        Noms                Films Gagnant  Duo  \\\n",
       "0        Michèle Abbe  Michèle        Abbe  BUNKER PALACE HÔTEL     NaN  NaN   \n",
       "1        Michèle Abbe  Michèle        Abbe     MADAME BUTTERFLY     NaN  NaN   \n",
       "2  Giacomo Abbruzzese  Giacomo  Abbruzzese              AMERICA     NaN  NaN   \n",
       "3      Marc Abdelnour     Marc   Abdelnour            SÉRAPHINE       G    D   \n",
       "4    Lionel Abelanski   Lionel   Abelanski         TRAIN DE VIE     NaN  NaN   \n",
       "\n",
       "  Producteurs Sexe Naissance  \n",
       "0         NaN    F         0  \n",
       "1         NaN    F         0  \n",
       "2         NaN    H      1983  \n",
       "3         NaN    H         0  \n",
       "4         NaN    H      1964  "
      ]
     },
     "execution_count": 51,
     "metadata": {},
     "output_type": "execute_result"
    }
   ],
   "source": [
    "df_personnes.head()"
   ]
  },
  {
   "cell_type": "markdown",
   "metadata": {},
   "source": [
    "## LOAD DATASET Dataset5050_Cheffes de poste 2023.xlsx - LISTE_FINALE_FILMS_RETENUS.xlsx\n"
   ]
  },
  {
   "cell_type": "code",
   "execution_count": null,
   "metadata": {},
   "outputs": [],
   "source": []
  }
 ],
 "metadata": {
  "kernelspec": {
   "display_name": ".venv",
   "language": "python",
   "name": "python3"
  },
  "language_info": {
   "codemirror_mode": {
    "name": "ipython",
    "version": 3
   },
   "file_extension": ".py",
   "mimetype": "text/x-python",
   "name": "python",
   "nbconvert_exporter": "python",
   "pygments_lexer": "ipython3",
   "version": "3.12.3"
  }
 },
 "nbformat": 4,
 "nbformat_minor": 2
}
